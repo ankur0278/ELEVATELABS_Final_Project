{
 "cells": [
  {
   "cell_type": "code",
   "execution_count": 42,
   "metadata": {},
   "outputs": [],
   "source": [
    "#importing the libraries\n",
    "import json\n",
    "import ast\n",
    "import isodate\n",
    "import pandas as pd\n",
    "import pycountry\n",
    "import plotly.express as px\n",
    "template = 'plotly_dark'\n",
    "import matplotlib.pyplot as plt\n",
    "pd.set_option('display.max_columns', None)"
   ]
  },
  {
   "cell_type": "code",
   "execution_count": 43,
   "metadata": {},
   "outputs": [],
   "source": [
    "#loading the csv file to python dataframe\n",
    "df = pd.read_csv('youtube_data_preprocessed.csv')"
   ]
  },
  {
   "cell_type": "code",
   "execution_count": 44,
   "metadata": {},
   "outputs": [
    {
     "data": {
      "text/html": [
       "<div>\n",
       "<style scoped>\n",
       "    .dataframe tbody tr th:only-of-type {\n",
       "        vertical-align: middle;\n",
       "    }\n",
       "\n",
       "    .dataframe tbody tr th {\n",
       "        vertical-align: top;\n",
       "    }\n",
       "\n",
       "    .dataframe thead th {\n",
       "        text-align: right;\n",
       "    }\n",
       "</style>\n",
       "<table border=\"1\" class=\"dataframe\">\n",
       "  <thead>\n",
       "    <tr style=\"text-align: right;\">\n",
       "      <th></th>\n",
       "      <th>id</th>\n",
       "      <th>video_name</th>\n",
       "      <th>channel_name</th>\n",
       "      <th>channel_id</th>\n",
       "      <th>date</th>\n",
       "      <th>duration</th>\n",
       "      <th>region_code</th>\n",
       "      <th>region_name</th>\n",
       "      <th>category</th>\n",
       "      <th>statistics</th>\n",
       "      <th>channel_stat</th>\n",
       "    </tr>\n",
       "  </thead>\n",
       "  <tbody>\n",
       "    <tr>\n",
       "      <th>0</th>\n",
       "      <td>1</td>\n",
       "      <td>ملخص مباراة البرتغال والأوروغواي - البرتغال ته...</td>\n",
       "      <td>beIN SPORTS</td>\n",
       "      <td>UCJUCcJUeh0Cz2xyKwkw5Q1w</td>\n",
       "      <td>2022-11-28T21:28:44Z</td>\n",
       "      <td>PT4M56S</td>\n",
       "      <td>AE</td>\n",
       "      <td>United Arab Emirates</td>\n",
       "      <td>17</td>\n",
       "      <td>{'viewCount': '2581021', 'likeCount': '49702',...</td>\n",
       "      <td>{'viewCount': '662059394', 'subscriberCount': ...</td>\n",
       "    </tr>\n",
       "    <tr>\n",
       "      <th>1</th>\n",
       "      <td>2</td>\n",
       "      <td>ITZY “Cheshire” M/V @ITZY</td>\n",
       "      <td>JYP Entertainment</td>\n",
       "      <td>UCaO6TYtlC8U5ttz62hTrZgg</td>\n",
       "      <td>2022-11-30T08:58:09Z</td>\n",
       "      <td>PT3M8S</td>\n",
       "      <td>AE</td>\n",
       "      <td>United Arab Emirates</td>\n",
       "      <td>10</td>\n",
       "      <td>{'viewCount': '3375142', 'likeCount': '537367'...</td>\n",
       "      <td>{'viewCount': '18109940685', 'subscriberCount'...</td>\n",
       "    </tr>\n",
       "    <tr>\n",
       "      <th>2</th>\n",
       "      <td>3</td>\n",
       "      <td>تحدي الثلاثين نسخة كأس العالم|كلاسيكو عبدالله ...</td>\n",
       "      <td>M12 ALFOUZAN - قدم الكرة</td>\n",
       "      <td>UCqe2V_eejw-b5SeOw63TQNw</td>\n",
       "      <td>2022-11-30T10:00:04Z</td>\n",
       "      <td>PT28M42S</td>\n",
       "      <td>AE</td>\n",
       "      <td>United Arab Emirates</td>\n",
       "      <td>17</td>\n",
       "      <td>{'viewCount': '282450', 'likeCount': '44190', ...</td>\n",
       "      <td>{'viewCount': '70894383', 'subscriberCount': '...</td>\n",
       "    </tr>\n",
       "    <tr>\n",
       "      <th>3</th>\n",
       "      <td>4</td>\n",
       "      <td>ملخص مباراة ويلز وإنكلترا | المنتخب الإنكليزي ...</td>\n",
       "      <td>beIN SPORTS</td>\n",
       "      <td>UCJUCcJUeh0Cz2xyKwkw5Q1w</td>\n",
       "      <td>2022-11-29T21:23:19Z</td>\n",
       "      <td>PT5M2S</td>\n",
       "      <td>AE</td>\n",
       "      <td>United Arab Emirates</td>\n",
       "      <td>17</td>\n",
       "      <td>{'viewCount': '1388618', 'likeCount': '27587',...</td>\n",
       "      <td>{'viewCount': '662059394', 'subscriberCount': ...</td>\n",
       "    </tr>\n",
       "    <tr>\n",
       "      <th>4</th>\n",
       "      <td>5</td>\n",
       "      <td>الكورة مع السلامة | الحلقة الثانية - كولومبيا 🇨🇴</td>\n",
       "      <td>Da7ee7 - الدحيح</td>\n",
       "      <td>UCqW7G8SmyeEeQYzLOk5tdSg</td>\n",
       "      <td>2022-11-29T18:01:24Z</td>\n",
       "      <td>PT26M50S</td>\n",
       "      <td>AE</td>\n",
       "      <td>United Arab Emirates</td>\n",
       "      <td>28</td>\n",
       "      <td>{'viewCount': '372223', 'likeCount': '38760', ...</td>\n",
       "      <td>{'viewCount': '34045688', 'subscriberCount': '...</td>\n",
       "    </tr>\n",
       "  </tbody>\n",
       "</table>\n",
       "</div>"
      ],
      "text/plain": [
       "   id                                         video_name  \\\n",
       "0   1  ملخص مباراة البرتغال والأوروغواي - البرتغال ته...   \n",
       "1   2                          ITZY “Cheshire” M/V @ITZY   \n",
       "2   3  تحدي الثلاثين نسخة كأس العالم|كلاسيكو عبدالله ...   \n",
       "3   4  ملخص مباراة ويلز وإنكلترا | المنتخب الإنكليزي ...   \n",
       "4   5   الكورة مع السلامة | الحلقة الثانية - كولومبيا 🇨🇴   \n",
       "\n",
       "               channel_name                channel_id                  date  \\\n",
       "0               beIN SPORTS  UCJUCcJUeh0Cz2xyKwkw5Q1w  2022-11-28T21:28:44Z   \n",
       "1         JYP Entertainment  UCaO6TYtlC8U5ttz62hTrZgg  2022-11-30T08:58:09Z   \n",
       "2  M12 ALFOUZAN - قدم الكرة  UCqe2V_eejw-b5SeOw63TQNw  2022-11-30T10:00:04Z   \n",
       "3               beIN SPORTS  UCJUCcJUeh0Cz2xyKwkw5Q1w  2022-11-29T21:23:19Z   \n",
       "4           Da7ee7 - الدحيح  UCqW7G8SmyeEeQYzLOk5tdSg  2022-11-29T18:01:24Z   \n",
       "\n",
       "   duration region_code           region_name  category  \\\n",
       "0   PT4M56S          AE  United Arab Emirates        17   \n",
       "1    PT3M8S          AE  United Arab Emirates        10   \n",
       "2  PT28M42S          AE  United Arab Emirates        17   \n",
       "3    PT5M2S          AE  United Arab Emirates        17   \n",
       "4  PT26M50S          AE  United Arab Emirates        28   \n",
       "\n",
       "                                          statistics  \\\n",
       "0  {'viewCount': '2581021', 'likeCount': '49702',...   \n",
       "1  {'viewCount': '3375142', 'likeCount': '537367'...   \n",
       "2  {'viewCount': '282450', 'likeCount': '44190', ...   \n",
       "3  {'viewCount': '1388618', 'likeCount': '27587',...   \n",
       "4  {'viewCount': '372223', 'likeCount': '38760', ...   \n",
       "\n",
       "                                        channel_stat  \n",
       "0  {'viewCount': '662059394', 'subscriberCount': ...  \n",
       "1  {'viewCount': '18109940685', 'subscriberCount'...  \n",
       "2  {'viewCount': '70894383', 'subscriberCount': '...  \n",
       "3  {'viewCount': '662059394', 'subscriberCount': ...  \n",
       "4  {'viewCount': '34045688', 'subscriberCount': '...  "
      ]
     },
     "execution_count": 44,
     "metadata": {},
     "output_type": "execute_result"
    }
   ],
   "source": [
    "#printing a sample of the dataframe\n",
    "df.head()"
   ]
  },
  {
   "cell_type": "code",
   "execution_count": 45,
   "metadata": {},
   "outputs": [
    {
     "data": {
      "text/plain": [
       "(5450, 11)"
      ]
     },
     "execution_count": 45,
     "metadata": {},
     "output_type": "execute_result"
    }
   ],
   "source": [
    "#renaming the columns.\n",
    "df.rename(columns={'category':'category_Id'}, inplace=True)\n",
    "\n",
    "#printing the number of rows and columns before preprocessing\n",
    "df.shape"
   ]
  },
  {
   "cell_type": "code",
   "execution_count": 46,
   "metadata": {},
   "outputs": [],
   "source": [
    "#Loading the category json data\n",
    "with open('Category_json.json') as f:\n",
    "    category_json = json.load(f)\n",
    "\n",
    "#extracting category data from json to dictionary using dict comprehension\n",
    "category_list = {category_json['items'][i]['id'] : category_json['items'][i]['snippet']['title'] for i in range(len(category_json['items']))}\n",
    "#mapping category code and name from the dictionary to the dataframe\n",
    "df['category'] = df['category_Id'].apply(str).map(category_list)"
   ]
  },
  {
   "cell_type": "code",
   "execution_count": 47,
   "metadata": {},
   "outputs": [],
   "source": [
    "#segregating data from the statistics\n",
    "#extracting viewcount and converting to numerical type for dataframe\n",
    "df['view'] = [ast.literal_eval(i).get('viewCount') for i in df['statistics']]\n",
    "df['view'] = pd.to_numeric(df['view'])\n",
    "\n",
    "#extracting likecount and converting to numerical type for dataframe\n",
    "df['like'] = [ast.literal_eval(i).get('likeCount') for i in df['statistics']]\n",
    "df['like'] = pd.to_numeric(df['like'])\n",
    "\n",
    "#extracting commentcount and converting to numerical type for dataframe\n",
    "df['comment'] = [ast.literal_eval(i).get('commentCount') for i in df['statistics']]\n",
    "df['comment'] = pd.to_numeric(df['comment'])\n",
    "\n",
    "#segregating data from the channel statistics\n",
    "#extracting subscribercount and converting to numerical type for dataframe\n",
    "df['channel_subscribers'] = [ast.literal_eval(i).get('subscriberCount') for i in df['channel_stat']]\n",
    "df['channel_subscribers'] = pd.to_numeric(df['channel_subscribers'])\n",
    "\n",
    "#extracting channel videocount and converting to numerical type for dataframe\n",
    "df['channel_videoCount'] = [ast.literal_eval(i).get('videoCount') for i in df['channel_stat']]\n",
    "df['channel_videoCount'] = pd.to_numeric(df['channel_videoCount'])"
   ]
  },
  {
   "cell_type": "code",
   "execution_count": 48,
   "metadata": {},
   "outputs": [
    {
     "data": {
      "text/plain": [
       "id                       int64\n",
       "video_name              object\n",
       "channel_name            object\n",
       "channel_id              object\n",
       "date                    object\n",
       "duration                object\n",
       "region_code             object\n",
       "region_name             object\n",
       "category_Id              int64\n",
       "statistics              object\n",
       "channel_stat            object\n",
       "category                object\n",
       "view                     int64\n",
       "like                   float64\n",
       "comment                float64\n",
       "channel_subscribers      int64\n",
       "channel_videoCount       int64\n",
       "dtype: object"
      ]
     },
     "execution_count": 48,
     "metadata": {},
     "output_type": "execute_result"
    }
   ],
   "source": [
    "#printing thecolumn types of dataframe\n",
    "df.dtypes"
   ]
  },
  {
   "cell_type": "code",
   "execution_count": 49,
   "metadata": {},
   "outputs": [
    {
     "data": {
      "text/plain": [
       "id                      0\n",
       "video_name              0\n",
       "channel_name            0\n",
       "channel_id              0\n",
       "date                    0\n",
       "duration                0\n",
       "region_code             0\n",
       "region_name             0\n",
       "category_Id             0\n",
       "statistics              0\n",
       "channel_stat            0\n",
       "category                0\n",
       "view                    0\n",
       "like                   28\n",
       "comment                95\n",
       "channel_subscribers     0\n",
       "channel_videoCount      0\n",
       "dtype: int64"
      ]
     },
     "execution_count": 49,
     "metadata": {},
     "output_type": "execute_result"
    }
   ],
   "source": [
    "#printing the null values sum by columns\n",
    "df.isnull().sum()"
   ]
  },
  {
   "cell_type": "code",
   "execution_count": 50,
   "metadata": {},
   "outputs": [],
   "source": [
    "#Interchanging the Nan values to 0\n",
    "df.fillna(0,inplace=True)"
   ]
  },
  {
   "cell_type": "code",
   "execution_count": 51,
   "metadata": {},
   "outputs": [],
   "source": [
    "#calculating the Popularity, engagement and growth\n",
    "df['popularity_%'] = round((df['like']/df['view']) * 100,2)\n",
    "df['engagement_%'] = round((df['comment']/df['view']) * 100,2)\n",
    "df['growth_%'] = round((df['view']/df['channel_subscribers']) * 100,2)"
   ]
  },
  {
   "cell_type": "code",
   "execution_count": 52,
   "metadata": {},
   "outputs": [],
   "source": [
    "#function to extract date from the datetime object\n",
    "def date_ext(text):\n",
    "    return text.date()\n",
    "\n",
    "#converting the object type to datetime type\n",
    "df['date'] = pd.to_datetime(df['date'])\n",
    "\n",
    "#Applying the date extraction function to the date column in dataframe\n",
    "df['date'] = df['date'].apply(date_ext)"
   ]
  },
  {
   "cell_type": "code",
   "execution_count": 53,
   "metadata": {},
   "outputs": [],
   "source": [
    "#funtion for calculating duration in seconds from youtube duration format\n",
    "def duration_ext(text):\n",
    "    return int(isodate.parse_duration(text).total_seconds())\n",
    "\n",
    "#Applying the duration in seconds function to the duration column in dataframe\n",
    "df['duration(sec)'] = df['duration'].apply(duration_ext)"
   ]
  },
  {
   "cell_type": "markdown",
   "metadata": {},
   "source": [
    "#function for fixing the country name to extract the country code name.\n",
    "def country_fix(title):\n",
    "    if 'laos' in title.lower():\n",
    "        return \"Lao People's Democratic Republic\"\n",
    "    elif 'vietnam' in title.lower():\n",
    "        return 'Viet Nam'\n",
    "    elif 'russia' in title.lower():\n",
    "        return 'Russian Federation'\n",
    "    elif 'south korea' in title.lower():\n",
    "        return 'Korea, Republic of'\n",
    "    elif 'taiwan' in title.lower():\n",
    "        return 'Taiwan, Province of China'\n",
    "    elif 'bolivia' in title.lower():\n",
    "        return 'Bolivia, Plurinational State of'\n",
    "    elif 'tanzania' in title.lower():\n",
    "        return 'Tanzania, United Republic of'\n",
    "    elif 'venezuela' in title.lower():\n",
    "        return 'Venezuela, Bolivarian Republic of'\n",
    "    else:\n",
    "        return title"
   ]
  },
  {
   "cell_type": "markdown",
   "metadata": {},
   "source": [
    "#Applying the country fix function to the region name column in dataframe\n",
    "df['country'] = df['region_name'].apply(country_fix)"
   ]
  },
  {
   "cell_type": "markdown",
   "metadata": {},
   "source": [
    "#init a dictionary for country name and country code\n",
    "countries = {}\n",
    "#init the for loop to get the country code\n",
    "for country in pycountry.countries:\n",
    "    countries[country.name] = country.alpha_3\n",
    "#list comprehension to map country code to the country column in dataframe\n",
    "df['country_code'] = [countries.get(country) for country in df['country']]"
   ]
  },
  {
   "cell_type": "code",
   "execution_count": 54,
   "metadata": {},
   "outputs": [
    {
     "data": {
      "text/html": [
       "<div>\n",
       "<style scoped>\n",
       "    .dataframe tbody tr th:only-of-type {\n",
       "        vertical-align: middle;\n",
       "    }\n",
       "\n",
       "    .dataframe tbody tr th {\n",
       "        vertical-align: top;\n",
       "    }\n",
       "\n",
       "    .dataframe thead th {\n",
       "        text-align: right;\n",
       "    }\n",
       "</style>\n",
       "<table border=\"1\" class=\"dataframe\">\n",
       "  <thead>\n",
       "    <tr style=\"text-align: right;\">\n",
       "      <th></th>\n",
       "      <th>id</th>\n",
       "      <th>video_name</th>\n",
       "      <th>channel_name</th>\n",
       "      <th>channel_id</th>\n",
       "      <th>date</th>\n",
       "      <th>duration</th>\n",
       "      <th>region_code</th>\n",
       "      <th>region_name</th>\n",
       "      <th>category_Id</th>\n",
       "      <th>statistics</th>\n",
       "      <th>channel_stat</th>\n",
       "      <th>category</th>\n",
       "      <th>view</th>\n",
       "      <th>like</th>\n",
       "      <th>comment</th>\n",
       "      <th>channel_subscribers</th>\n",
       "      <th>channel_videoCount</th>\n",
       "      <th>popularity_%</th>\n",
       "      <th>engagement_%</th>\n",
       "      <th>growth_%</th>\n",
       "      <th>duration(sec)</th>\n",
       "    </tr>\n",
       "  </thead>\n",
       "  <tbody>\n",
       "    <tr>\n",
       "      <th>0</th>\n",
       "      <td>1</td>\n",
       "      <td>ملخص مباراة البرتغال والأوروغواي - البرتغال ته...</td>\n",
       "      <td>beIN SPORTS</td>\n",
       "      <td>UCJUCcJUeh0Cz2xyKwkw5Q1w</td>\n",
       "      <td>2022-11-28</td>\n",
       "      <td>PT4M56S</td>\n",
       "      <td>AE</td>\n",
       "      <td>United Arab Emirates</td>\n",
       "      <td>17</td>\n",
       "      <td>{'viewCount': '2581021', 'likeCount': '49702',...</td>\n",
       "      <td>{'viewCount': '662059394', 'subscriberCount': ...</td>\n",
       "      <td>Sports</td>\n",
       "      <td>2581021</td>\n",
       "      <td>49702.0</td>\n",
       "      <td>1324.0</td>\n",
       "      <td>8500000</td>\n",
       "      <td>3913</td>\n",
       "      <td>1.93</td>\n",
       "      <td>0.05</td>\n",
       "      <td>30.36</td>\n",
       "      <td>296</td>\n",
       "    </tr>\n",
       "    <tr>\n",
       "      <th>1</th>\n",
       "      <td>2</td>\n",
       "      <td>ITZY “Cheshire” M/V @ITZY</td>\n",
       "      <td>JYP Entertainment</td>\n",
       "      <td>UCaO6TYtlC8U5ttz62hTrZgg</td>\n",
       "      <td>2022-11-30</td>\n",
       "      <td>PT3M8S</td>\n",
       "      <td>AE</td>\n",
       "      <td>United Arab Emirates</td>\n",
       "      <td>10</td>\n",
       "      <td>{'viewCount': '3375142', 'likeCount': '537367'...</td>\n",
       "      <td>{'viewCount': '18109940685', 'subscriberCount'...</td>\n",
       "      <td>Music</td>\n",
       "      <td>3375142</td>\n",
       "      <td>537367.0</td>\n",
       "      <td>30969.0</td>\n",
       "      <td>26000000</td>\n",
       "      <td>1592</td>\n",
       "      <td>15.92</td>\n",
       "      <td>0.92</td>\n",
       "      <td>12.98</td>\n",
       "      <td>188</td>\n",
       "    </tr>\n",
       "    <tr>\n",
       "      <th>2</th>\n",
       "      <td>3</td>\n",
       "      <td>تحدي الثلاثين نسخة كأس العالم|كلاسيكو عبدالله ...</td>\n",
       "      <td>M12 ALFOUZAN - قدم الكرة</td>\n",
       "      <td>UCqe2V_eejw-b5SeOw63TQNw</td>\n",
       "      <td>2022-11-30</td>\n",
       "      <td>PT28M42S</td>\n",
       "      <td>AE</td>\n",
       "      <td>United Arab Emirates</td>\n",
       "      <td>17</td>\n",
       "      <td>{'viewCount': '282450', 'likeCount': '44190', ...</td>\n",
       "      <td>{'viewCount': '70894383', 'subscriberCount': '...</td>\n",
       "      <td>Sports</td>\n",
       "      <td>282450</td>\n",
       "      <td>44190.0</td>\n",
       "      <td>667.0</td>\n",
       "      <td>1120000</td>\n",
       "      <td>65</td>\n",
       "      <td>15.65</td>\n",
       "      <td>0.24</td>\n",
       "      <td>25.22</td>\n",
       "      <td>1722</td>\n",
       "    </tr>\n",
       "    <tr>\n",
       "      <th>3</th>\n",
       "      <td>4</td>\n",
       "      <td>ملخص مباراة ويلز وإنكلترا | المنتخب الإنكليزي ...</td>\n",
       "      <td>beIN SPORTS</td>\n",
       "      <td>UCJUCcJUeh0Cz2xyKwkw5Q1w</td>\n",
       "      <td>2022-11-29</td>\n",
       "      <td>PT5M2S</td>\n",
       "      <td>AE</td>\n",
       "      <td>United Arab Emirates</td>\n",
       "      <td>17</td>\n",
       "      <td>{'viewCount': '1388618', 'likeCount': '27587',...</td>\n",
       "      <td>{'viewCount': '662059394', 'subscriberCount': ...</td>\n",
       "      <td>Sports</td>\n",
       "      <td>1388618</td>\n",
       "      <td>27587.0</td>\n",
       "      <td>896.0</td>\n",
       "      <td>8500000</td>\n",
       "      <td>3913</td>\n",
       "      <td>1.99</td>\n",
       "      <td>0.06</td>\n",
       "      <td>16.34</td>\n",
       "      <td>302</td>\n",
       "    </tr>\n",
       "    <tr>\n",
       "      <th>4</th>\n",
       "      <td>5</td>\n",
       "      <td>الكورة مع السلامة | الحلقة الثانية - كولومبيا 🇨🇴</td>\n",
       "      <td>Da7ee7 - الدحيح</td>\n",
       "      <td>UCqW7G8SmyeEeQYzLOk5tdSg</td>\n",
       "      <td>2022-11-29</td>\n",
       "      <td>PT26M50S</td>\n",
       "      <td>AE</td>\n",
       "      <td>United Arab Emirates</td>\n",
       "      <td>28</td>\n",
       "      <td>{'viewCount': '372223', 'likeCount': '38760', ...</td>\n",
       "      <td>{'viewCount': '34045688', 'subscriberCount': '...</td>\n",
       "      <td>Science &amp; Technology</td>\n",
       "      <td>372223</td>\n",
       "      <td>38760.0</td>\n",
       "      <td>1323.0</td>\n",
       "      <td>1530000</td>\n",
       "      <td>42</td>\n",
       "      <td>10.41</td>\n",
       "      <td>0.36</td>\n",
       "      <td>24.33</td>\n",
       "      <td>1610</td>\n",
       "    </tr>\n",
       "  </tbody>\n",
       "</table>\n",
       "</div>"
      ],
      "text/plain": [
       "   id                                         video_name  \\\n",
       "0   1  ملخص مباراة البرتغال والأوروغواي - البرتغال ته...   \n",
       "1   2                          ITZY “Cheshire” M/V @ITZY   \n",
       "2   3  تحدي الثلاثين نسخة كأس العالم|كلاسيكو عبدالله ...   \n",
       "3   4  ملخص مباراة ويلز وإنكلترا | المنتخب الإنكليزي ...   \n",
       "4   5   الكورة مع السلامة | الحلقة الثانية - كولومبيا 🇨🇴   \n",
       "\n",
       "               channel_name                channel_id        date  duration  \\\n",
       "0               beIN SPORTS  UCJUCcJUeh0Cz2xyKwkw5Q1w  2022-11-28   PT4M56S   \n",
       "1         JYP Entertainment  UCaO6TYtlC8U5ttz62hTrZgg  2022-11-30    PT3M8S   \n",
       "2  M12 ALFOUZAN - قدم الكرة  UCqe2V_eejw-b5SeOw63TQNw  2022-11-30  PT28M42S   \n",
       "3               beIN SPORTS  UCJUCcJUeh0Cz2xyKwkw5Q1w  2022-11-29    PT5M2S   \n",
       "4           Da7ee7 - الدحيح  UCqW7G8SmyeEeQYzLOk5tdSg  2022-11-29  PT26M50S   \n",
       "\n",
       "  region_code           region_name  category_Id  \\\n",
       "0          AE  United Arab Emirates           17   \n",
       "1          AE  United Arab Emirates           10   \n",
       "2          AE  United Arab Emirates           17   \n",
       "3          AE  United Arab Emirates           17   \n",
       "4          AE  United Arab Emirates           28   \n",
       "\n",
       "                                          statistics  \\\n",
       "0  {'viewCount': '2581021', 'likeCount': '49702',...   \n",
       "1  {'viewCount': '3375142', 'likeCount': '537367'...   \n",
       "2  {'viewCount': '282450', 'likeCount': '44190', ...   \n",
       "3  {'viewCount': '1388618', 'likeCount': '27587',...   \n",
       "4  {'viewCount': '372223', 'likeCount': '38760', ...   \n",
       "\n",
       "                                        channel_stat              category  \\\n",
       "0  {'viewCount': '662059394', 'subscriberCount': ...                Sports   \n",
       "1  {'viewCount': '18109940685', 'subscriberCount'...                 Music   \n",
       "2  {'viewCount': '70894383', 'subscriberCount': '...                Sports   \n",
       "3  {'viewCount': '662059394', 'subscriberCount': ...                Sports   \n",
       "4  {'viewCount': '34045688', 'subscriberCount': '...  Science & Technology   \n",
       "\n",
       "      view      like  comment  channel_subscribers  channel_videoCount  \\\n",
       "0  2581021   49702.0   1324.0              8500000                3913   \n",
       "1  3375142  537367.0  30969.0             26000000                1592   \n",
       "2   282450   44190.0    667.0              1120000                  65   \n",
       "3  1388618   27587.0    896.0              8500000                3913   \n",
       "4   372223   38760.0   1323.0              1530000                  42   \n",
       "\n",
       "   popularity_%  engagement_%  growth_%  duration(sec)  \n",
       "0          1.93          0.05     30.36            296  \n",
       "1         15.92          0.92     12.98            188  \n",
       "2         15.65          0.24     25.22           1722  \n",
       "3          1.99          0.06     16.34            302  \n",
       "4         10.41          0.36     24.33           1610  "
      ]
     },
     "execution_count": 54,
     "metadata": {},
     "output_type": "execute_result"
    }
   ],
   "source": [
    "#printing the sample of the dataframe\n",
    "df.head()"
   ]
  },
  {
   "cell_type": "code",
   "execution_count": 55,
   "metadata": {},
   "outputs": [],
   "source": [
    "#droping the unwanted columns\n",
    "df.drop(columns=['id','statistics','channel_stat','duration'], inplace=True)"
   ]
  },
  {
   "cell_type": "code",
   "execution_count": 56,
   "metadata": {},
   "outputs": [
    {
     "data": {
      "text/plain": [
       "Index(['video_name', 'channel_name', 'channel_id', 'date', 'region_code',\n",
       "       'region_name', 'category_Id', 'category', 'view', 'like', 'comment',\n",
       "       'channel_subscribers', 'channel_videoCount', 'popularity_%',\n",
       "       'engagement_%', 'growth_%', 'duration(sec)'],\n",
       "      dtype='object')"
      ]
     },
     "execution_count": 56,
     "metadata": {},
     "output_type": "execute_result"
    }
   ],
   "source": [
    "#checking the columns in the dataframe\n",
    "df.columns"
   ]
  },
  {
   "cell_type": "code",
   "execution_count": 41,
   "metadata": {},
   "outputs": [],
   "source": [
    "#saving the post processed dataframe to a csv file\n",
    "df.to_csv('youtube_data_postprocessed.csv', index=False)"
   ]
  },
  {
   "cell_type": "markdown",
   "metadata": {},
   "source": [
    "# Geo Plotly"
   ]
  },
  {
   "cell_type": "code",
   "execution_count": 57,
   "metadata": {},
   "outputs": [],
   "source": [
    "youtube_stat = df.groupby(['region_name']).agg({'view': 'mean', 'like': 'mean', 'comment': 'mean', 'popularity_%': 'mean', 'engagement_%': 'mean', 'category': 'nunique'}).reset_index().sort_values(by=['view'], ascending=False)\n",
    "youtube_stat.rename(columns={'region_name':'Country', 'view':'View_Avg', 'like':'Like_Avg', 'comment':'Comment_Avg', 'popularity_%':'Popularity_Avg', 'engagement_%':'Engagement_Avg', 'category':'Category_Unique_Count'}, inplace=True)"
   ]
  },
  {
   "cell_type": "code",
   "execution_count": 58,
   "metadata": {},
   "outputs": [
    {
     "data": {
      "text/html": [
       "<div>\n",
       "<style scoped>\n",
       "    .dataframe tbody tr th:only-of-type {\n",
       "        vertical-align: middle;\n",
       "    }\n",
       "\n",
       "    .dataframe tbody tr th {\n",
       "        vertical-align: top;\n",
       "    }\n",
       "\n",
       "    .dataframe thead th {\n",
       "        text-align: right;\n",
       "    }\n",
       "</style>\n",
       "<table border=\"1\" class=\"dataframe\">\n",
       "  <thead>\n",
       "    <tr style=\"text-align: right;\">\n",
       "      <th></th>\n",
       "      <th>Country</th>\n",
       "      <th>View_Avg</th>\n",
       "      <th>Like_Avg</th>\n",
       "      <th>Comment_Avg</th>\n",
       "      <th>Popularity_Avg</th>\n",
       "      <th>Engagement_Avg</th>\n",
       "      <th>Category_Unique_Count</th>\n",
       "    </tr>\n",
       "  </thead>\n",
       "  <tbody>\n",
       "    <tr>\n",
       "      <th>13</th>\n",
       "      <td>Cambodia</td>\n",
       "      <td>26952005.28</td>\n",
       "      <td>868374.76</td>\n",
       "      <td>3607.52</td>\n",
       "      <td>2.9568</td>\n",
       "      <td>0.0366</td>\n",
       "      <td>9</td>\n",
       "    </tr>\n",
       "    <tr>\n",
       "      <th>57</th>\n",
       "      <td>Malaysia</td>\n",
       "      <td>18010288.16</td>\n",
       "      <td>809951.06</td>\n",
       "      <td>12659.88</td>\n",
       "      <td>4.1960</td>\n",
       "      <td>0.1624</td>\n",
       "      <td>11</td>\n",
       "    </tr>\n",
       "    <tr>\n",
       "      <th>50</th>\n",
       "      <td>Laos</td>\n",
       "      <td>14954699.86</td>\n",
       "      <td>429183.70</td>\n",
       "      <td>1807.86</td>\n",
       "      <td>2.3452</td>\n",
       "      <td>0.0624</td>\n",
       "      <td>8</td>\n",
       "    </tr>\n",
       "    <tr>\n",
       "      <th>70</th>\n",
       "      <td>Pakistan</td>\n",
       "      <td>12828527.82</td>\n",
       "      <td>583265.36</td>\n",
       "      <td>1944.54</td>\n",
       "      <td>4.0544</td>\n",
       "      <td>0.0682</td>\n",
       "      <td>8</td>\n",
       "    </tr>\n",
       "    <tr>\n",
       "      <th>58</th>\n",
       "      <td>Malta</td>\n",
       "      <td>11661577.28</td>\n",
       "      <td>469749.06</td>\n",
       "      <td>20792.94</td>\n",
       "      <td>3.8274</td>\n",
       "      <td>0.1864</td>\n",
       "      <td>10</td>\n",
       "    </tr>\n",
       "    <tr>\n",
       "      <th>...</th>\n",
       "      <td>...</td>\n",
       "      <td>...</td>\n",
       "      <td>...</td>\n",
       "      <td>...</td>\n",
       "      <td>...</td>\n",
       "      <td>...</td>\n",
       "      <td>...</td>\n",
       "    </tr>\n",
       "    <tr>\n",
       "      <th>94</th>\n",
       "      <td>Taiwan</td>\n",
       "      <td>827419.70</td>\n",
       "      <td>35321.22</td>\n",
       "      <td>2270.44</td>\n",
       "      <td>3.1434</td>\n",
       "      <td>0.2436</td>\n",
       "      <td>10</td>\n",
       "    </tr>\n",
       "    <tr>\n",
       "      <th>28</th>\n",
       "      <td>France</td>\n",
       "      <td>768793.68</td>\n",
       "      <td>55211.36</td>\n",
       "      <td>3517.18</td>\n",
       "      <td>7.0656</td>\n",
       "      <td>0.4534</td>\n",
       "      <td>11</td>\n",
       "    </tr>\n",
       "    <tr>\n",
       "      <th>95</th>\n",
       "      <td>Tanzania</td>\n",
       "      <td>717644.14</td>\n",
       "      <td>15705.76</td>\n",
       "      <td>782.24</td>\n",
       "      <td>2.0322</td>\n",
       "      <td>0.2812</td>\n",
       "      <td>6</td>\n",
       "    </tr>\n",
       "    <tr>\n",
       "      <th>81</th>\n",
       "      <td>Russia</td>\n",
       "      <td>694103.86</td>\n",
       "      <td>53934.46</td>\n",
       "      <td>2679.32</td>\n",
       "      <td>7.6856</td>\n",
       "      <td>0.4378</td>\n",
       "      <td>11</td>\n",
       "    </tr>\n",
       "    <tr>\n",
       "      <th>43</th>\n",
       "      <td>Italy</td>\n",
       "      <td>591009.50</td>\n",
       "      <td>39155.72</td>\n",
       "      <td>2084.90</td>\n",
       "      <td>7.0390</td>\n",
       "      <td>0.2498</td>\n",
       "      <td>11</td>\n",
       "    </tr>\n",
       "  </tbody>\n",
       "</table>\n",
       "<p>109 rows × 7 columns</p>\n",
       "</div>"
      ],
      "text/plain": [
       "     Country     View_Avg   Like_Avg  Comment_Avg  Popularity_Avg  \\\n",
       "13  Cambodia  26952005.28  868374.76      3607.52          2.9568   \n",
       "57  Malaysia  18010288.16  809951.06     12659.88          4.1960   \n",
       "50      Laos  14954699.86  429183.70      1807.86          2.3452   \n",
       "70  Pakistan  12828527.82  583265.36      1944.54          4.0544   \n",
       "58     Malta  11661577.28  469749.06     20792.94          3.8274   \n",
       "..       ...          ...        ...          ...             ...   \n",
       "94    Taiwan    827419.70   35321.22      2270.44          3.1434   \n",
       "28    France    768793.68   55211.36      3517.18          7.0656   \n",
       "95  Tanzania    717644.14   15705.76       782.24          2.0322   \n",
       "81    Russia    694103.86   53934.46      2679.32          7.6856   \n",
       "43     Italy    591009.50   39155.72      2084.90          7.0390   \n",
       "\n",
       "    Engagement_Avg  Category_Unique_Count  \n",
       "13          0.0366                      9  \n",
       "57          0.1624                     11  \n",
       "50          0.0624                      8  \n",
       "70          0.0682                      8  \n",
       "58          0.1864                     10  \n",
       "..             ...                    ...  \n",
       "94          0.2436                     10  \n",
       "28          0.4534                     11  \n",
       "95          0.2812                      6  \n",
       "81          0.4378                     11  \n",
       "43          0.2498                     11  \n",
       "\n",
       "[109 rows x 7 columns]"
      ]
     },
     "execution_count": 58,
     "metadata": {},
     "output_type": "execute_result"
    }
   ],
   "source": [
    "youtube_stat"
   ]
  },
  {
   "cell_type": "code",
   "execution_count": 59,
   "metadata": {},
   "outputs": [],
   "source": [
    "countries = {}\n",
    "for country in pycountry.countries:\n",
    "    countries[country.name] = country.alpha_3\n",
    "youtube_stat['Alpha3'] = [countries.get(country) for country in youtube_stat['Country']]"
   ]
  },
  {
   "cell_type": "code",
   "execution_count": 60,
   "metadata": {},
   "outputs": [],
   "source": [
    "def nationality_fix(title):\n",
    "    if 'laos' in title.lower():\n",
    "        return \"Lao People's Democratic Republic\"\n",
    "    elif 'vietnam' in title.lower():\n",
    "        return 'Viet Nam'\n",
    "    elif 'russia' in title.lower():\n",
    "        return 'Russian Federation'\n",
    "    elif 'south korea' in title.lower():\n",
    "        return 'Korea, Republic of'\n",
    "    elif 'taiwan' in title.lower():\n",
    "        return 'Taiwan, Province of China'\n",
    "    elif 'bolivia' in title.lower():\n",
    "        return 'Bolivia, Plurinational State of'\n",
    "    elif 'tanzania' in title.lower():\n",
    "        return 'Tanzania, United Republic of'\n",
    "    elif 'venezuela' in title.lower():\n",
    "        return 'Venezuela, Bolivarian Republic of'\n",
    "    else:\n",
    "        return title"
   ]
  },
  {
   "cell_type": "code",
   "execution_count": 61,
   "metadata": {},
   "outputs": [],
   "source": [
    "youtube_stat['Country'] = youtube_stat['Country'].apply(nationality_fix)"
   ]
  },
  {
   "cell_type": "code",
   "execution_count": 62,
   "metadata": {},
   "outputs": [
    {
     "data": {
      "text/html": [
       "<div>\n",
       "<style scoped>\n",
       "    .dataframe tbody tr th:only-of-type {\n",
       "        vertical-align: middle;\n",
       "    }\n",
       "\n",
       "    .dataframe tbody tr th {\n",
       "        vertical-align: top;\n",
       "    }\n",
       "\n",
       "    .dataframe thead th {\n",
       "        text-align: right;\n",
       "    }\n",
       "</style>\n",
       "<table border=\"1\" class=\"dataframe\">\n",
       "  <thead>\n",
       "    <tr style=\"text-align: right;\">\n",
       "      <th></th>\n",
       "      <th>Country</th>\n",
       "      <th>View_Avg</th>\n",
       "      <th>Like_Avg</th>\n",
       "      <th>Comment_Avg</th>\n",
       "      <th>Popularity_Avg</th>\n",
       "      <th>Engagement_Avg</th>\n",
       "      <th>Category_Unique_Count</th>\n",
       "      <th>Alpha3</th>\n",
       "    </tr>\n",
       "  </thead>\n",
       "  <tbody>\n",
       "    <tr>\n",
       "      <th>13</th>\n",
       "      <td>Cambodia</td>\n",
       "      <td>26952005.28</td>\n",
       "      <td>868374.76</td>\n",
       "      <td>3607.52</td>\n",
       "      <td>2.9568</td>\n",
       "      <td>0.0366</td>\n",
       "      <td>9</td>\n",
       "      <td>KHM</td>\n",
       "    </tr>\n",
       "    <tr>\n",
       "      <th>57</th>\n",
       "      <td>Malaysia</td>\n",
       "      <td>18010288.16</td>\n",
       "      <td>809951.06</td>\n",
       "      <td>12659.88</td>\n",
       "      <td>4.1960</td>\n",
       "      <td>0.1624</td>\n",
       "      <td>11</td>\n",
       "      <td>MYS</td>\n",
       "    </tr>\n",
       "    <tr>\n",
       "      <th>50</th>\n",
       "      <td>Lao People's Democratic Republic</td>\n",
       "      <td>14954699.86</td>\n",
       "      <td>429183.70</td>\n",
       "      <td>1807.86</td>\n",
       "      <td>2.3452</td>\n",
       "      <td>0.0624</td>\n",
       "      <td>8</td>\n",
       "      <td>None</td>\n",
       "    </tr>\n",
       "    <tr>\n",
       "      <th>70</th>\n",
       "      <td>Pakistan</td>\n",
       "      <td>12828527.82</td>\n",
       "      <td>583265.36</td>\n",
       "      <td>1944.54</td>\n",
       "      <td>4.0544</td>\n",
       "      <td>0.0682</td>\n",
       "      <td>8</td>\n",
       "      <td>PAK</td>\n",
       "    </tr>\n",
       "    <tr>\n",
       "      <th>58</th>\n",
       "      <td>Malta</td>\n",
       "      <td>11661577.28</td>\n",
       "      <td>469749.06</td>\n",
       "      <td>20792.94</td>\n",
       "      <td>3.8274</td>\n",
       "      <td>0.1864</td>\n",
       "      <td>10</td>\n",
       "      <td>MLT</td>\n",
       "    </tr>\n",
       "    <tr>\n",
       "      <th>...</th>\n",
       "      <td>...</td>\n",
       "      <td>...</td>\n",
       "      <td>...</td>\n",
       "      <td>...</td>\n",
       "      <td>...</td>\n",
       "      <td>...</td>\n",
       "      <td>...</td>\n",
       "      <td>...</td>\n",
       "    </tr>\n",
       "    <tr>\n",
       "      <th>94</th>\n",
       "      <td>Taiwan, Province of China</td>\n",
       "      <td>827419.70</td>\n",
       "      <td>35321.22</td>\n",
       "      <td>2270.44</td>\n",
       "      <td>3.1434</td>\n",
       "      <td>0.2436</td>\n",
       "      <td>10</td>\n",
       "      <td>None</td>\n",
       "    </tr>\n",
       "    <tr>\n",
       "      <th>28</th>\n",
       "      <td>France</td>\n",
       "      <td>768793.68</td>\n",
       "      <td>55211.36</td>\n",
       "      <td>3517.18</td>\n",
       "      <td>7.0656</td>\n",
       "      <td>0.4534</td>\n",
       "      <td>11</td>\n",
       "      <td>FRA</td>\n",
       "    </tr>\n",
       "    <tr>\n",
       "      <th>95</th>\n",
       "      <td>Tanzania, United Republic of</td>\n",
       "      <td>717644.14</td>\n",
       "      <td>15705.76</td>\n",
       "      <td>782.24</td>\n",
       "      <td>2.0322</td>\n",
       "      <td>0.2812</td>\n",
       "      <td>6</td>\n",
       "      <td>None</td>\n",
       "    </tr>\n",
       "    <tr>\n",
       "      <th>81</th>\n",
       "      <td>Russian Federation</td>\n",
       "      <td>694103.86</td>\n",
       "      <td>53934.46</td>\n",
       "      <td>2679.32</td>\n",
       "      <td>7.6856</td>\n",
       "      <td>0.4378</td>\n",
       "      <td>11</td>\n",
       "      <td>None</td>\n",
       "    </tr>\n",
       "    <tr>\n",
       "      <th>43</th>\n",
       "      <td>Italy</td>\n",
       "      <td>591009.50</td>\n",
       "      <td>39155.72</td>\n",
       "      <td>2084.90</td>\n",
       "      <td>7.0390</td>\n",
       "      <td>0.2498</td>\n",
       "      <td>11</td>\n",
       "      <td>ITA</td>\n",
       "    </tr>\n",
       "  </tbody>\n",
       "</table>\n",
       "<p>109 rows × 8 columns</p>\n",
       "</div>"
      ],
      "text/plain": [
       "                             Country     View_Avg   Like_Avg  Comment_Avg  \\\n",
       "13                          Cambodia  26952005.28  868374.76      3607.52   \n",
       "57                          Malaysia  18010288.16  809951.06     12659.88   \n",
       "50  Lao People's Democratic Republic  14954699.86  429183.70      1807.86   \n",
       "70                          Pakistan  12828527.82  583265.36      1944.54   \n",
       "58                             Malta  11661577.28  469749.06     20792.94   \n",
       "..                               ...          ...        ...          ...   \n",
       "94         Taiwan, Province of China    827419.70   35321.22      2270.44   \n",
       "28                            France    768793.68   55211.36      3517.18   \n",
       "95      Tanzania, United Republic of    717644.14   15705.76       782.24   \n",
       "81                Russian Federation    694103.86   53934.46      2679.32   \n",
       "43                             Italy    591009.50   39155.72      2084.90   \n",
       "\n",
       "    Popularity_Avg  Engagement_Avg  Category_Unique_Count Alpha3  \n",
       "13          2.9568          0.0366                      9    KHM  \n",
       "57          4.1960          0.1624                     11    MYS  \n",
       "50          2.3452          0.0624                      8   None  \n",
       "70          4.0544          0.0682                      8    PAK  \n",
       "58          3.8274          0.1864                     10    MLT  \n",
       "..             ...             ...                    ...    ...  \n",
       "94          3.1434          0.2436                     10   None  \n",
       "28          7.0656          0.4534                     11    FRA  \n",
       "95          2.0322          0.2812                      6   None  \n",
       "81          7.6856          0.4378                     11   None  \n",
       "43          7.0390          0.2498                     11    ITA  \n",
       "\n",
       "[109 rows x 8 columns]"
      ]
     },
     "execution_count": 62,
     "metadata": {},
     "output_type": "execute_result"
    }
   ],
   "source": [
    "youtube_stat"
   ]
  },
  {
   "cell_type": "code",
   "execution_count": 63,
   "metadata": {},
   "outputs": [
    {
     "data": {
      "application/vnd.plotly.v1+json": {
       "config": {
        "plotlyServerURL": "https://plot.ly"
       },
       "data": [
        {
         "customdata": [
          [
           868374.76,
           3607.52,
           2.9568,
           0.0366,
           9
          ]
         ],
         "geo": "geo",
         "hovertemplate": "<b>%{hovertext}</b><br><br>Country=Cambodia<br>View_Avg=%{marker.size}<br>Alpha3=%{location}<br>Like_Avg=%{customdata[0]}<br>Comment_Avg=%{customdata[1]}<br>Popularity_Avg=%{customdata[2]}<br>Engagement_Avg=%{customdata[3]}<br>Category_Unique_Count=%{customdata[4]}<extra></extra>",
         "hovertext": [
          "Cambodia"
         ],
         "legendgroup": "Cambodia",
         "locations": [
          "KHM"
         ],
         "marker": {
          "color": "#636efa",
          "size": [
           26952005.28
          ],
          "sizemode": "area",
          "sizeref": 67380.0132,
          "symbol": "circle"
         },
         "mode": "markers",
         "name": "Cambodia",
         "showlegend": true,
         "type": "scattergeo"
        },
        {
         "customdata": [
          [
           809951.06,
           12659.88,
           4.196000000000001,
           0.1624,
           11
          ]
         ],
         "geo": "geo",
         "hovertemplate": "<b>%{hovertext}</b><br><br>Country=Malaysia<br>View_Avg=%{marker.size}<br>Alpha3=%{location}<br>Like_Avg=%{customdata[0]}<br>Comment_Avg=%{customdata[1]}<br>Popularity_Avg=%{customdata[2]}<br>Engagement_Avg=%{customdata[3]}<br>Category_Unique_Count=%{customdata[4]}<extra></extra>",
         "hovertext": [
          "Malaysia"
         ],
         "legendgroup": "Malaysia",
         "locations": [
          "MYS"
         ],
         "marker": {
          "color": "#EF553B",
          "size": [
           18010288.16
          ],
          "sizemode": "area",
          "sizeref": 67380.0132,
          "symbol": "circle"
         },
         "mode": "markers",
         "name": "Malaysia",
         "showlegend": true,
         "type": "scattergeo"
        },
        {
         "customdata": [
          [
           429183.7,
           1807.86,
           2.3452,
           0.062400000000000004,
           8
          ]
         ],
         "geo": "geo",
         "hovertemplate": "<b>%{hovertext}</b><br><br>Country=Lao People's Democratic Republic<br>View_Avg=%{marker.size}<br>Alpha3=%{location}<br>Like_Avg=%{customdata[0]}<br>Comment_Avg=%{customdata[1]}<br>Popularity_Avg=%{customdata[2]}<br>Engagement_Avg=%{customdata[3]}<br>Category_Unique_Count=%{customdata[4]}<extra></extra>",
         "hovertext": [
          "Lao People's Democratic Republic"
         ],
         "legendgroup": "Lao People's Democratic Republic",
         "locations": [
          null
         ],
         "marker": {
          "color": "#00cc96",
          "size": [
           14954699.86
          ],
          "sizemode": "area",
          "sizeref": 67380.0132,
          "symbol": "circle"
         },
         "mode": "markers",
         "name": "Lao People's Democratic Republic",
         "showlegend": true,
         "type": "scattergeo"
        },
        {
         "customdata": [
          [
           583265.36,
           1944.54,
           4.0544,
           0.0682,
           8
          ]
         ],
         "geo": "geo",
         "hovertemplate": "<b>%{hovertext}</b><br><br>Country=Pakistan<br>View_Avg=%{marker.size}<br>Alpha3=%{location}<br>Like_Avg=%{customdata[0]}<br>Comment_Avg=%{customdata[1]}<br>Popularity_Avg=%{customdata[2]}<br>Engagement_Avg=%{customdata[3]}<br>Category_Unique_Count=%{customdata[4]}<extra></extra>",
         "hovertext": [
          "Pakistan"
         ],
         "legendgroup": "Pakistan",
         "locations": [
          "PAK"
         ],
         "marker": {
          "color": "#ab63fa",
          "size": [
           12828527.82
          ],
          "sizemode": "area",
          "sizeref": 67380.0132,
          "symbol": "circle"
         },
         "mode": "markers",
         "name": "Pakistan",
         "showlegend": true,
         "type": "scattergeo"
        },
        {
         "customdata": [
          [
           469749.06,
           20792.94,
           3.8274,
           0.1864,
           10
          ]
         ],
         "geo": "geo",
         "hovertemplate": "<b>%{hovertext}</b><br><br>Country=Malta<br>View_Avg=%{marker.size}<br>Alpha3=%{location}<br>Like_Avg=%{customdata[0]}<br>Comment_Avg=%{customdata[1]}<br>Popularity_Avg=%{customdata[2]}<br>Engagement_Avg=%{customdata[3]}<br>Category_Unique_Count=%{customdata[4]}<extra></extra>",
         "hovertext": [
          "Malta"
         ],
         "legendgroup": "Malta",
         "locations": [
          "MLT"
         ],
         "marker": {
          "color": "#FFA15A",
          "size": [
           11661577.28
          ],
          "sizemode": "area",
          "sizeref": 67380.0132,
          "symbol": "circle"
         },
         "mode": "markers",
         "name": "Malta",
         "showlegend": true,
         "type": "scattergeo"
        },
        {
         "customdata": [
          [
           596709.56,
           16744.58,
           6.513400000000001,
           0.2174,
           10
          ]
         ],
         "geo": "geo",
         "hovertemplate": "<b>%{hovertext}</b><br><br>Country=El Salvador<br>View_Avg=%{marker.size}<br>Alpha3=%{location}<br>Like_Avg=%{customdata[0]}<br>Comment_Avg=%{customdata[1]}<br>Popularity_Avg=%{customdata[2]}<br>Engagement_Avg=%{customdata[3]}<br>Category_Unique_Count=%{customdata[4]}<extra></extra>",
         "hovertext": [
          "El Salvador"
         ],
         "legendgroup": "El Salvador",
         "locations": [
          "SLV"
         ],
         "marker": {
          "color": "#19d3f3",
          "size": [
           10316244.68
          ],
          "sizemode": "area",
          "sizeref": 67380.0132,
          "symbol": "circle"
         },
         "mode": "markers",
         "name": "El Salvador",
         "showlegend": true,
         "type": "scattergeo"
        },
        {
         "customdata": [
          [
           495692.36,
           5005.92,
           3.853,
           0.131,
           9
          ]
         ],
         "geo": "geo",
         "hovertemplate": "<b>%{hovertext}</b><br><br>Country=Nepal<br>View_Avg=%{marker.size}<br>Alpha3=%{location}<br>Like_Avg=%{customdata[0]}<br>Comment_Avg=%{customdata[1]}<br>Popularity_Avg=%{customdata[2]}<br>Engagement_Avg=%{customdata[3]}<br>Category_Unique_Count=%{customdata[4]}<extra></extra>",
         "hovertext": [
          "Nepal"
         ],
         "legendgroup": "Nepal",
         "locations": [
          "NPL"
         ],
         "marker": {
          "color": "#FF6692",
          "size": [
           10281687.78
          ],
          "sizemode": "area",
          "sizeref": 67380.0132,
          "symbol": "circle"
         },
         "mode": "markers",
         "name": "Nepal",
         "showlegend": true,
         "type": "scattergeo"
        },
        {
         "customdata": [
          [
           428590.92,
           9062.04,
           3.0782,
           0.1296,
           8
          ]
         ],
         "geo": "geo",
         "hovertemplate": "<b>%{hovertext}</b><br><br>Country=Bangladesh<br>View_Avg=%{marker.size}<br>Alpha3=%{location}<br>Like_Avg=%{customdata[0]}<br>Comment_Avg=%{customdata[1]}<br>Popularity_Avg=%{customdata[2]}<br>Engagement_Avg=%{customdata[3]}<br>Category_Unique_Count=%{customdata[4]}<extra></extra>",
         "hovertext": [
          "Bangladesh"
         ],
         "legendgroup": "Bangladesh",
         "locations": [
          "BGD"
         ],
         "marker": {
          "color": "#B6E880",
          "size": [
           9398348.32
          ],
          "sizemode": "area",
          "sizeref": 67380.0132,
          "symbol": "circle"
         },
         "mode": "markers",
         "name": "Bangladesh",
         "showlegend": true,
         "type": "scattergeo"
        },
        {
         "customdata": [
          [
           530065.98,
           13547.04,
           4.8382,
           0.22519999999999998,
           10
          ]
         ],
         "geo": "geo",
         "hovertemplate": "<b>%{hovertext}</b><br><br>Country=Singapore<br>View_Avg=%{marker.size}<br>Alpha3=%{location}<br>Like_Avg=%{customdata[0]}<br>Comment_Avg=%{customdata[1]}<br>Popularity_Avg=%{customdata[2]}<br>Engagement_Avg=%{customdata[3]}<br>Category_Unique_Count=%{customdata[4]}<extra></extra>",
         "hovertext": [
          "Singapore"
         ],
         "legendgroup": "Singapore",
         "locations": [
          "SGP"
         ],
         "marker": {
          "color": "#FF97FF",
          "size": [
           8513803.02
          ],
          "sizemode": "area",
          "sizeref": 67380.0132,
          "symbol": "circle"
         },
         "mode": "markers",
         "name": "Singapore",
         "showlegend": true,
         "type": "scattergeo"
        },
        {
         "customdata": [
          [
           400351.32,
           8595.86,
           6.0948,
           0.284,
           8
          ]
         ],
         "geo": "geo",
         "hovertemplate": "<b>%{hovertext}</b><br><br>Country=Portugal<br>View_Avg=%{marker.size}<br>Alpha3=%{location}<br>Like_Avg=%{customdata[0]}<br>Comment_Avg=%{customdata[1]}<br>Popularity_Avg=%{customdata[2]}<br>Engagement_Avg=%{customdata[3]}<br>Category_Unique_Count=%{customdata[4]}<extra></extra>",
         "hovertext": [
          "Portugal"
         ],
         "legendgroup": "Portugal",
         "locations": [
          "PRT"
         ],
         "marker": {
          "color": "#FECB52",
          "size": [
           8132988.78
          ],
          "sizemode": "area",
          "sizeref": 67380.0132,
          "symbol": "circle"
         },
         "mode": "markers",
         "name": "Portugal",
         "showlegend": true,
         "type": "scattergeo"
        },
        {
         "customdata": [
          [
           413770.16,
           5935.54,
           3.76,
           0.1142,
           9
          ]
         ],
         "geo": "geo",
         "hovertemplate": "<b>%{hovertext}</b><br><br>Country=Sri Lanka<br>View_Avg=%{marker.size}<br>Alpha3=%{location}<br>Like_Avg=%{customdata[0]}<br>Comment_Avg=%{customdata[1]}<br>Popularity_Avg=%{customdata[2]}<br>Engagement_Avg=%{customdata[3]}<br>Category_Unique_Count=%{customdata[4]}<extra></extra>",
         "hovertext": [
          "Sri Lanka"
         ],
         "legendgroup": "Sri Lanka",
         "locations": [
          "LKA"
         ],
         "marker": {
          "color": "#636efa",
          "size": [
           8021588.8
          ],
          "sizemode": "area",
          "sizeref": 67380.0132,
          "symbol": "circle"
         },
         "mode": "markers",
         "name": "Sri Lanka",
         "showlegend": true,
         "type": "scattergeo"
        },
        {
         "customdata": [
          [
           351438.52,
           7680.76,
           4.3476,
           0.2706,
           11
          ]
         ],
         "geo": "geo",
         "hovertemplate": "<b>%{hovertext}</b><br><br>Country=Liechtenstein<br>View_Avg=%{marker.size}<br>Alpha3=%{location}<br>Like_Avg=%{customdata[0]}<br>Comment_Avg=%{customdata[1]}<br>Popularity_Avg=%{customdata[2]}<br>Engagement_Avg=%{customdata[3]}<br>Category_Unique_Count=%{customdata[4]}<extra></extra>",
         "hovertext": [
          "Liechtenstein"
         ],
         "legendgroup": "Liechtenstein",
         "locations": [
          "LIE"
         ],
         "marker": {
          "color": "#EF553B",
          "size": [
           7759847.26
          ],
          "sizemode": "area",
          "sizeref": 67380.0132,
          "symbol": "circle"
         },
         "mode": "markers",
         "name": "Liechtenstein",
         "showlegend": true,
         "type": "scattergeo"
        },
        {
         "customdata": [
          [
           351495.4,
           7654.14,
           4.3618,
           0.2686,
           11
          ]
         ],
         "geo": "geo",
         "hovertemplate": "<b>%{hovertext}</b><br><br>Country=Switzerland<br>View_Avg=%{marker.size}<br>Alpha3=%{location}<br>Like_Avg=%{customdata[0]}<br>Comment_Avg=%{customdata[1]}<br>Popularity_Avg=%{customdata[2]}<br>Engagement_Avg=%{customdata[3]}<br>Category_Unique_Count=%{customdata[4]}<extra></extra>",
         "hovertext": [
          "Switzerland"
         ],
         "legendgroup": "Switzerland",
         "locations": [
          "CHE"
         ],
         "marker": {
          "color": "#00cc96",
          "size": [
           7758944.96
          ],
          "sizemode": "area",
          "sizeref": 67380.0132,
          "symbol": "circle"
         },
         "mode": "markers",
         "name": "Switzerland",
         "showlegend": true,
         "type": "scattergeo"
        },
        {
         "customdata": [
          [
           322204.94,
           7996.66,
           3.5854000000000004,
           0.2318,
           10
          ]
         ],
         "geo": "geo",
         "hovertemplate": "<b>%{hovertext}</b><br><br>Country=Zimbabwe<br>View_Avg=%{marker.size}<br>Alpha3=%{location}<br>Like_Avg=%{customdata[0]}<br>Comment_Avg=%{customdata[1]}<br>Popularity_Avg=%{customdata[2]}<br>Engagement_Avg=%{customdata[3]}<br>Category_Unique_Count=%{customdata[4]}<extra></extra>",
         "hovertext": [
          "Zimbabwe"
         ],
         "legendgroup": "Zimbabwe",
         "locations": [
          "ZWE"
         ],
         "marker": {
          "color": "#ab63fa",
          "size": [
           7488754.9
          ],
          "sizemode": "area",
          "sizeref": 67380.0132,
          "symbol": "circle"
         },
         "mode": "markers",
         "name": "Zimbabwe",
         "showlegend": true,
         "type": "scattergeo"
        },
        {
         "customdata": [
          [
           431034.34,
           9083.88,
           5.3153999999999995,
           0.21660000000000001,
           14
          ]
         ],
         "geo": "geo",
         "hovertemplate": "<b>%{hovertext}</b><br><br>Country=New Zealand<br>View_Avg=%{marker.size}<br>Alpha3=%{location}<br>Like_Avg=%{customdata[0]}<br>Comment_Avg=%{customdata[1]}<br>Popularity_Avg=%{customdata[2]}<br>Engagement_Avg=%{customdata[3]}<br>Category_Unique_Count=%{customdata[4]}<extra></extra>",
         "hovertext": [
          "New Zealand"
         ],
         "legendgroup": "New Zealand",
         "locations": [
          "NZL"
         ],
         "marker": {
          "color": "#FFA15A",
          "size": [
           7280773.9
          ],
          "sizemode": "area",
          "sizeref": 67380.0132,
          "symbol": "circle"
         },
         "mode": "markers",
         "name": "New Zealand",
         "showlegend": true,
         "type": "scattergeo"
        },
        {
         "customdata": [
          [
           373942,
           9529.12,
           4.841,
           0.2014,
           12
          ]
         ],
         "geo": "geo",
         "hovertemplate": "<b>%{hovertext}</b><br><br>Country=Ireland<br>View_Avg=%{marker.size}<br>Alpha3=%{location}<br>Like_Avg=%{customdata[0]}<br>Comment_Avg=%{customdata[1]}<br>Popularity_Avg=%{customdata[2]}<br>Engagement_Avg=%{customdata[3]}<br>Category_Unique_Count=%{customdata[4]}<extra></extra>",
         "hovertext": [
          "Ireland"
         ],
         "legendgroup": "Ireland",
         "locations": [
          "IRL"
         ],
         "marker": {
          "color": "#19d3f3",
          "size": [
           7101689.46
          ],
          "sizemode": "area",
          "sizeref": 67380.0132,
          "symbol": "circle"
         },
         "mode": "markers",
         "name": "Ireland",
         "showlegend": true,
         "type": "scattergeo"
        },
        {
         "customdata": [
          [
           317767.1,
           9756.56,
           2.9674,
           0.2752,
           9
          ]
         ],
         "geo": "geo",
         "hovertemplate": "<b>%{hovertext}</b><br><br>Country=Uganda<br>View_Avg=%{marker.size}<br>Alpha3=%{location}<br>Like_Avg=%{customdata[0]}<br>Comment_Avg=%{customdata[1]}<br>Popularity_Avg=%{customdata[2]}<br>Engagement_Avg=%{customdata[3]}<br>Category_Unique_Count=%{customdata[4]}<extra></extra>",
         "hovertext": [
          "Uganda"
         ],
         "legendgroup": "Uganda",
         "locations": [
          "UGA"
         ],
         "marker": {
          "color": "#FF6692",
          "size": [
           7011282.48
          ],
          "sizemode": "area",
          "sizeref": 67380.0132,
          "symbol": "circle"
         },
         "mode": "markers",
         "name": "Uganda",
         "showlegend": true,
         "type": "scattergeo"
        },
        {
         "customdata": [
          [
           345568.52,
           9489,
           5.164,
           0.2174,
           11
          ]
         ],
         "geo": "geo",
         "hovertemplate": "<b>%{hovertext}</b><br><br>Country=Denmark<br>View_Avg=%{marker.size}<br>Alpha3=%{location}<br>Like_Avg=%{customdata[0]}<br>Comment_Avg=%{customdata[1]}<br>Popularity_Avg=%{customdata[2]}<br>Engagement_Avg=%{customdata[3]}<br>Category_Unique_Count=%{customdata[4]}<extra></extra>",
         "hovertext": [
          "Denmark"
         ],
         "legendgroup": "Denmark",
         "locations": [
          "DNK"
         ],
         "marker": {
          "color": "#B6E880",
          "size": [
           6884429.82
          ],
          "sizemode": "area",
          "sizeref": 67380.0132,
          "symbol": "circle"
         },
         "mode": "markers",
         "name": "Denmark",
         "showlegend": true,
         "type": "scattergeo"
        },
        {
         "customdata": [
          [
           393414.08,
           13579.6,
           5.268,
           0.2692,
           12
          ]
         ],
         "geo": "geo",
         "hovertemplate": "<b>%{hovertext}</b><br><br>Country=Norway<br>View_Avg=%{marker.size}<br>Alpha3=%{location}<br>Like_Avg=%{customdata[0]}<br>Comment_Avg=%{customdata[1]}<br>Popularity_Avg=%{customdata[2]}<br>Engagement_Avg=%{customdata[3]}<br>Category_Unique_Count=%{customdata[4]}<extra></extra>",
         "hovertext": [
          "Norway"
         ],
         "legendgroup": "Norway",
         "locations": [
          "NOR"
         ],
         "marker": {
          "color": "#FF97FF",
          "size": [
           6856366.98
          ],
          "sizemode": "area",
          "sizeref": 67380.0132,
          "symbol": "circle"
         },
         "mode": "markers",
         "name": "Norway",
         "showlegend": true,
         "type": "scattergeo"
        },
        {
         "customdata": [
          [
           384886.32,
           4115.22,
           4.4696,
           0.14880000000000002,
           11
          ]
         ],
         "geo": "geo",
         "hovertemplate": "<b>%{hovertext}</b><br><br>Country=South Africa<br>View_Avg=%{marker.size}<br>Alpha3=%{location}<br>Like_Avg=%{customdata[0]}<br>Comment_Avg=%{customdata[1]}<br>Popularity_Avg=%{customdata[2]}<br>Engagement_Avg=%{customdata[3]}<br>Category_Unique_Count=%{customdata[4]}<extra></extra>",
         "hovertext": [
          "South Africa"
         ],
         "legendgroup": "South Africa",
         "locations": [
          "ZAF"
         ],
         "marker": {
          "color": "#FECB52",
          "size": [
           6837435.82
          ],
          "sizemode": "area",
          "sizeref": 67380.0132,
          "symbol": "circle"
         },
         "mode": "markers",
         "name": "South Africa",
         "showlegend": true,
         "type": "scattergeo"
        },
        {
         "customdata": [
          [
           338980.48,
           9056.68,
           5.1464,
           0.2368,
           13
          ]
         ],
         "geo": "geo",
         "hovertemplate": "<b>%{hovertext}</b><br><br>Country=Sweden<br>View_Avg=%{marker.size}<br>Alpha3=%{location}<br>Like_Avg=%{customdata[0]}<br>Comment_Avg=%{customdata[1]}<br>Popularity_Avg=%{customdata[2]}<br>Engagement_Avg=%{customdata[3]}<br>Category_Unique_Count=%{customdata[4]}<extra></extra>",
         "hovertext": [
          "Sweden"
         ],
         "legendgroup": "Sweden",
         "locations": [
          "SWE"
         ],
         "marker": {
          "color": "#636efa",
          "size": [
           6540271.32
          ],
          "sizemode": "area",
          "sizeref": 67380.0132,
          "symbol": "circle"
         },
         "mode": "markers",
         "name": "Sweden",
         "showlegend": true,
         "type": "scattergeo"
        },
        {
         "customdata": [
          [
           377682.18,
           4294.44,
           5.3142,
           0.22580000000000003,
           11
          ]
         ],
         "geo": "geo",
         "hovertemplate": "<b>%{hovertext}</b><br><br>Country=Netherlands<br>View_Avg=%{marker.size}<br>Alpha3=%{location}<br>Like_Avg=%{customdata[0]}<br>Comment_Avg=%{customdata[1]}<br>Popularity_Avg=%{customdata[2]}<br>Engagement_Avg=%{customdata[3]}<br>Category_Unique_Count=%{customdata[4]}<extra></extra>",
         "hovertext": [
          "Netherlands"
         ],
         "legendgroup": "Netherlands",
         "locations": [
          "NLD"
         ],
         "marker": {
          "color": "#EF553B",
          "size": [
           6526810.78
          ],
          "sizemode": "area",
          "sizeref": 67380.0132,
          "symbol": "circle"
         },
         "mode": "markers",
         "name": "Netherlands",
         "showlegend": true,
         "type": "scattergeo"
        },
        {
         "customdata": [
          [
           201483.68,
           5773.06,
           4.2246,
           0.2978,
           10
          ]
         ],
         "geo": "geo",
         "hovertemplate": "<b>%{hovertext}</b><br><br>Country=Georgia<br>View_Avg=%{marker.size}<br>Alpha3=%{location}<br>Like_Avg=%{customdata[0]}<br>Comment_Avg=%{customdata[1]}<br>Popularity_Avg=%{customdata[2]}<br>Engagement_Avg=%{customdata[3]}<br>Category_Unique_Count=%{customdata[4]}<extra></extra>",
         "hovertext": [
          "Georgia"
         ],
         "legendgroup": "Georgia",
         "locations": [
          "GEO"
         ],
         "marker": {
          "color": "#00cc96",
          "size": [
           6100280.42
          ],
          "sizemode": "area",
          "sizeref": 67380.0132,
          "symbol": "circle"
         },
         "mode": "markers",
         "name": "Georgia",
         "showlegend": true,
         "type": "scattergeo"
        },
        {
         "customdata": [
          [
           324779.56,
           6303.8,
           5.2428,
           0.2602,
           12
          ]
         ],
         "geo": "geo",
         "hovertemplate": "<b>%{hovertext}</b><br><br>Country=Finland<br>View_Avg=%{marker.size}<br>Alpha3=%{location}<br>Like_Avg=%{customdata[0]}<br>Comment_Avg=%{customdata[1]}<br>Popularity_Avg=%{customdata[2]}<br>Engagement_Avg=%{customdata[3]}<br>Category_Unique_Count=%{customdata[4]}<extra></extra>",
         "hovertext": [
          "Finland"
         ],
         "legendgroup": "Finland",
         "locations": [
          "FIN"
         ],
         "marker": {
          "color": "#ab63fa",
          "size": [
           6077254.7
          ],
          "sizemode": "area",
          "sizeref": 67380.0132,
          "symbol": "circle"
         },
         "mode": "markers",
         "name": "Finland",
         "showlegend": true,
         "type": "scattergeo"
        },
        {
         "customdata": [
          [
           292118.06,
           7004.64,
           3.2762000000000002,
           0.1364,
           9
          ]
         ],
         "geo": "geo",
         "hovertemplate": "<b>%{hovertext}</b><br><br>Country=Israel<br>View_Avg=%{marker.size}<br>Alpha3=%{location}<br>Like_Avg=%{customdata[0]}<br>Comment_Avg=%{customdata[1]}<br>Popularity_Avg=%{customdata[2]}<br>Engagement_Avg=%{customdata[3]}<br>Category_Unique_Count=%{customdata[4]}<extra></extra>",
         "hovertext": [
          "Israel"
         ],
         "legendgroup": "Israel",
         "locations": [
          "ISR"
         ],
         "marker": {
          "color": "#FFA15A",
          "size": [
           5865391.94
          ],
          "sizemode": "area",
          "sizeref": 67380.0132,
          "symbol": "circle"
         },
         "mode": "markers",
         "name": "Israel",
         "showlegend": true,
         "type": "scattergeo"
        },
        {
         "customdata": [
          [
           279703.26,
           9687.92,
           5.5422,
           0.37439999999999996,
           11
          ]
         ],
         "geo": "geo",
         "hovertemplate": "<b>%{hovertext}</b><br><br>Country=Estonia<br>View_Avg=%{marker.size}<br>Alpha3=%{location}<br>Like_Avg=%{customdata[0]}<br>Comment_Avg=%{customdata[1]}<br>Popularity_Avg=%{customdata[2]}<br>Engagement_Avg=%{customdata[3]}<br>Category_Unique_Count=%{customdata[4]}<extra></extra>",
         "hovertext": [
          "Estonia"
         ],
         "legendgroup": "Estonia",
         "locations": [
          "EST"
         ],
         "marker": {
          "color": "#19d3f3",
          "size": [
           5649414.14
          ],
          "sizemode": "area",
          "sizeref": 67380.0132,
          "symbol": "circle"
         },
         "mode": "markers",
         "name": "Estonia",
         "showlegend": true,
         "type": "scattergeo"
        },
        {
         "customdata": [
          [
           280505.8,
           8652.46,
           5.1274,
           0.2182,
           8
          ]
         ],
         "geo": "geo",
         "hovertemplate": "<b>%{hovertext}</b><br><br>Country=Iceland<br>View_Avg=%{marker.size}<br>Alpha3=%{location}<br>Like_Avg=%{customdata[0]}<br>Comment_Avg=%{customdata[1]}<br>Popularity_Avg=%{customdata[2]}<br>Engagement_Avg=%{customdata[3]}<br>Category_Unique_Count=%{customdata[4]}<extra></extra>",
         "hovertext": [
          "Iceland"
         ],
         "legendgroup": "Iceland",
         "locations": [
          "ISL"
         ],
         "marker": {
          "color": "#FF6692",
          "size": [
           5583221.18
          ],
          "sizemode": "area",
          "sizeref": 67380.0132,
          "symbol": "circle"
         },
         "mode": "markers",
         "name": "Iceland",
         "showlegend": true,
         "type": "scattergeo"
        },
        {
         "customdata": [
          [
           289775.08,
           12866.54,
           7.377999999999999,
           0.21600000000000003,
           9
          ]
         ],
         "geo": "geo",
         "hovertemplate": "<b>%{hovertext}</b><br><br>Country=Bahrain<br>View_Avg=%{marker.size}<br>Alpha3=%{location}<br>Like_Avg=%{customdata[0]}<br>Comment_Avg=%{customdata[1]}<br>Popularity_Avg=%{customdata[2]}<br>Engagement_Avg=%{customdata[3]}<br>Category_Unique_Count=%{customdata[4]}<extra></extra>",
         "hovertext": [
          "Bahrain"
         ],
         "legendgroup": "Bahrain",
         "locations": [
          "BHR"
         ],
         "marker": {
          "color": "#B6E880",
          "size": [
           5478152.64
          ],
          "sizemode": "area",
          "sizeref": 67380.0132,
          "symbol": "circle"
         },
         "mode": "markers",
         "name": "Bahrain",
         "showlegend": true,
         "type": "scattergeo"
        },
        {
         "customdata": [
          [
           266282.16,
           11267.82,
           5.7118,
           0.2268,
           8
          ]
         ],
         "geo": "geo",
         "hovertemplate": "<b>%{hovertext}</b><br><br>Country=Puerto Rico<br>View_Avg=%{marker.size}<br>Alpha3=%{location}<br>Like_Avg=%{customdata[0]}<br>Comment_Avg=%{customdata[1]}<br>Popularity_Avg=%{customdata[2]}<br>Engagement_Avg=%{customdata[3]}<br>Category_Unique_Count=%{customdata[4]}<extra></extra>",
         "hovertext": [
          "Puerto Rico"
         ],
         "legendgroup": "Puerto Rico",
         "locations": [
          "PRI"
         ],
         "marker": {
          "color": "#FF97FF",
          "size": [
           5449227.6
          ],
          "sizemode": "area",
          "sizeref": 67380.0132,
          "symbol": "circle"
         },
         "mode": "markers",
         "name": "Puerto Rico",
         "showlegend": true,
         "type": "scattergeo"
        },
        {
         "customdata": [
          [
           287465.7,
           13252.36,
           7.2778,
           0.2876,
           9
          ]
         ],
         "geo": "geo",
         "hovertemplate": "<b>%{hovertext}</b><br><br>Country=Kuwait<br>View_Avg=%{marker.size}<br>Alpha3=%{location}<br>Like_Avg=%{customdata[0]}<br>Comment_Avg=%{customdata[1]}<br>Popularity_Avg=%{customdata[2]}<br>Engagement_Avg=%{customdata[3]}<br>Category_Unique_Count=%{customdata[4]}<extra></extra>",
         "hovertext": [
          "Kuwait"
         ],
         "legendgroup": "Kuwait",
         "locations": [
          "KWT"
         ],
         "marker": {
          "color": "#FECB52",
          "size": [
           5441890.72
          ],
          "sizemode": "area",
          "sizeref": 67380.0132,
          "symbol": "circle"
         },
         "mode": "markers",
         "name": "Kuwait",
         "showlegend": true,
         "type": "scattergeo"
        },
        {
         "customdata": [
          [
           263892.08,
           7084.04,
           5.7582,
           0.21919999999999998,
           8
          ]
         ],
         "geo": "geo",
         "hovertemplate": "<b>%{hovertext}</b><br><br>Country=Belgium<br>View_Avg=%{marker.size}<br>Alpha3=%{location}<br>Like_Avg=%{customdata[0]}<br>Comment_Avg=%{customdata[1]}<br>Popularity_Avg=%{customdata[2]}<br>Engagement_Avg=%{customdata[3]}<br>Category_Unique_Count=%{customdata[4]}<extra></extra>",
         "hovertext": [
          "Belgium"
         ],
         "legendgroup": "Belgium",
         "locations": [
          "BEL"
         ],
         "marker": {
          "color": "#636efa",
          "size": [
           5418539.28
          ],
          "sizemode": "area",
          "sizeref": 67380.0132,
          "symbol": "circle"
         },
         "mode": "markers",
         "name": "Belgium",
         "showlegend": true,
         "type": "scattergeo"
        },
        {
         "customdata": [
          [
           285399.98,
           13508.02,
           6.0538,
           0.24280000000000002,
           8
          ]
         ],
         "geo": "geo",
         "hovertemplate": "<b>%{hovertext}</b><br><br>Country=Nicaragua<br>View_Avg=%{marker.size}<br>Alpha3=%{location}<br>Like_Avg=%{customdata[0]}<br>Comment_Avg=%{customdata[1]}<br>Popularity_Avg=%{customdata[2]}<br>Engagement_Avg=%{customdata[3]}<br>Category_Unique_Count=%{customdata[4]}<extra></extra>",
         "hovertext": [
          "Nicaragua"
         ],
         "legendgroup": "Nicaragua",
         "locations": [
          "NIC"
         ],
         "marker": {
          "color": "#EF553B",
          "size": [
           5390775.48
          ],
          "sizemode": "area",
          "sizeref": 67380.0132,
          "symbol": "circle"
         },
         "mode": "markers",
         "name": "Nicaragua",
         "showlegend": true,
         "type": "scattergeo"
        },
        {
         "customdata": [
          [
           175140.8,
           1299.88,
           3.1324,
           0.1158,
           12
          ]
         ],
         "geo": "geo",
         "hovertemplate": "<b>%{hovertext}</b><br><br>Country=Kazakhstan<br>View_Avg=%{marker.size}<br>Alpha3=%{location}<br>Like_Avg=%{customdata[0]}<br>Comment_Avg=%{customdata[1]}<br>Popularity_Avg=%{customdata[2]}<br>Engagement_Avg=%{customdata[3]}<br>Category_Unique_Count=%{customdata[4]}<extra></extra>",
         "hovertext": [
          "Kazakhstan"
         ],
         "legendgroup": "Kazakhstan",
         "locations": [
          "KAZ"
         ],
         "marker": {
          "color": "#00cc96",
          "size": [
           5254323.32
          ],
          "sizemode": "area",
          "sizeref": 67380.0132,
          "symbol": "circle"
         },
         "mode": "markers",
         "name": "Kazakhstan",
         "showlegend": true,
         "type": "scattergeo"
        },
        {
         "customdata": [
          [
           225839.7,
           9836.8,
           6.820399999999999,
           0.218,
           9
          ]
         ],
         "geo": "geo",
         "hovertemplate": "<b>%{hovertext}</b><br><br>Country=Qatar<br>View_Avg=%{marker.size}<br>Alpha3=%{location}<br>Like_Avg=%{customdata[0]}<br>Comment_Avg=%{customdata[1]}<br>Popularity_Avg=%{customdata[2]}<br>Engagement_Avg=%{customdata[3]}<br>Category_Unique_Count=%{customdata[4]}<extra></extra>",
         "hovertext": [
          "Qatar"
         ],
         "legendgroup": "Qatar",
         "locations": [
          "QAT"
         ],
         "marker": {
          "color": "#ab63fa",
          "size": [
           5038755.96
          ],
          "sizemode": "area",
          "sizeref": 67380.0132,
          "symbol": "circle"
         },
         "mode": "markers",
         "name": "Qatar",
         "showlegend": true,
         "type": "scattergeo"
        },
        {
         "customdata": [
          [
           187005.18,
           8558.7,
           2.383,
           0.0834,
           10
          ]
         ],
         "geo": "geo",
         "hovertemplate": "<b>%{hovertext}</b><br><br>Country=Viet Nam<br>View_Avg=%{marker.size}<br>Alpha3=%{location}<br>Like_Avg=%{customdata[0]}<br>Comment_Avg=%{customdata[1]}<br>Popularity_Avg=%{customdata[2]}<br>Engagement_Avg=%{customdata[3]}<br>Category_Unique_Count=%{customdata[4]}<extra></extra>",
         "hovertext": [
          "Viet Nam"
         ],
         "legendgroup": "Viet Nam",
         "locations": [
          null
         ],
         "marker": {
          "color": "#FFA15A",
          "size": [
           4995589.9
          ],
          "sizemode": "area",
          "sizeref": 67380.0132,
          "symbol": "circle"
         },
         "mode": "markers",
         "name": "Viet Nam",
         "showlegend": true,
         "type": "scattergeo"
        },
        {
         "customdata": [
          [
           273792.6,
           12664.3,
           7.7076,
           0.3076,
           9
          ]
         ],
         "geo": "geo",
         "hovertemplate": "<b>%{hovertext}</b><br><br>Country=Lebanon<br>View_Avg=%{marker.size}<br>Alpha3=%{location}<br>Like_Avg=%{customdata[0]}<br>Comment_Avg=%{customdata[1]}<br>Popularity_Avg=%{customdata[2]}<br>Engagement_Avg=%{customdata[3]}<br>Category_Unique_Count=%{customdata[4]}<extra></extra>",
         "hovertext": [
          "Lebanon"
         ],
         "legendgroup": "Lebanon",
         "locations": [
          "LBN"
         ],
         "marker": {
          "color": "#19d3f3",
          "size": [
           4839786.36
          ],
          "sizemode": "area",
          "sizeref": 67380.0132,
          "symbol": "circle"
         },
         "mode": "markers",
         "name": "Lebanon",
         "showlegend": true,
         "type": "scattergeo"
        },
        {
         "customdata": [
          [
           198162.62,
           2136.5,
           4.6368,
           0.1026,
           9
          ]
         ],
         "geo": "geo",
         "hovertemplate": "<b>%{hovertext}</b><br><br>Country=Philippines<br>View_Avg=%{marker.size}<br>Alpha3=%{location}<br>Like_Avg=%{customdata[0]}<br>Comment_Avg=%{customdata[1]}<br>Popularity_Avg=%{customdata[2]}<br>Engagement_Avg=%{customdata[3]}<br>Category_Unique_Count=%{customdata[4]}<extra></extra>",
         "hovertext": [
          "Philippines"
         ],
         "legendgroup": "Philippines",
         "locations": [
          "PHL"
         ],
         "marker": {
          "color": "#FF6692",
          "size": [
           4635911.34
          ],
          "sizemode": "area",
          "sizeref": 67380.0132,
          "symbol": "circle"
         },
         "mode": "markers",
         "name": "Philippines",
         "showlegend": true,
         "type": "scattergeo"
        },
        {
         "customdata": [
          [
           240717.3,
           7567.64,
           5.1128,
           0.39039999999999997,
           11
          ]
         ],
         "geo": "geo",
         "hovertemplate": "<b>%{hovertext}</b><br><br>Country=Lithuania<br>View_Avg=%{marker.size}<br>Alpha3=%{location}<br>Like_Avg=%{customdata[0]}<br>Comment_Avg=%{customdata[1]}<br>Popularity_Avg=%{customdata[2]}<br>Engagement_Avg=%{customdata[3]}<br>Category_Unique_Count=%{customdata[4]}<extra></extra>",
         "hovertext": [
          "Lithuania"
         ],
         "legendgroup": "Lithuania",
         "locations": [
          "LTU"
         ],
         "marker": {
          "color": "#B6E880",
          "size": [
           4547477.28
          ],
          "sizemode": "area",
          "sizeref": 67380.0132,
          "symbol": "circle"
         },
         "mode": "markers",
         "name": "Lithuania",
         "showlegend": true,
         "type": "scattergeo"
        },
        {
         "customdata": [
          [
           213993.76,
           8067.56,
           6.375,
           0.21559999999999999,
           11
          ]
         ],
         "geo": "geo",
         "hovertemplate": "<b>%{hovertext}</b><br><br>Country=Luxembourg<br>View_Avg=%{marker.size}<br>Alpha3=%{location}<br>Like_Avg=%{customdata[0]}<br>Comment_Avg=%{customdata[1]}<br>Popularity_Avg=%{customdata[2]}<br>Engagement_Avg=%{customdata[3]}<br>Category_Unique_Count=%{customdata[4]}<extra></extra>",
         "hovertext": [
          "Luxembourg"
         ],
         "legendgroup": "Luxembourg",
         "locations": [
          "LUX"
         ],
         "marker": {
          "color": "#FF97FF",
          "size": [
           4420455.4
          ],
          "sizemode": "area",
          "sizeref": 67380.0132,
          "symbol": "circle"
         },
         "mode": "markers",
         "name": "Luxembourg",
         "showlegend": true,
         "type": "scattergeo"
        },
        {
         "customdata": [
          [
           209599,
           7208.4,
           5.3284,
           0.42300000000000004,
           11
          ]
         ],
         "geo": "geo",
         "hovertemplate": "<b>%{hovertext}</b><br><br>Country=Latvia<br>View_Avg=%{marker.size}<br>Alpha3=%{location}<br>Like_Avg=%{customdata[0]}<br>Comment_Avg=%{customdata[1]}<br>Popularity_Avg=%{customdata[2]}<br>Engagement_Avg=%{customdata[3]}<br>Category_Unique_Count=%{customdata[4]}<extra></extra>",
         "hovertext": [
          "Latvia"
         ],
         "legendgroup": "Latvia",
         "locations": [
          "LVA"
         ],
         "marker": {
          "color": "#FECB52",
          "size": [
           4114753.1
          ],
          "sizemode": "area",
          "sizeref": 67380.0132,
          "symbol": "circle"
         },
         "mode": "markers",
         "name": "Latvia",
         "showlegend": true,
         "type": "scattergeo"
        },
        {
         "customdata": [
          [
           189613.14,
           3668.32,
           3.5804,
           0.1578,
           11
          ]
         ],
         "geo": "geo",
         "hovertemplate": "<b>%{hovertext}</b><br><br>Country=Slovenia<br>View_Avg=%{marker.size}<br>Alpha3=%{location}<br>Like_Avg=%{customdata[0]}<br>Comment_Avg=%{customdata[1]}<br>Popularity_Avg=%{customdata[2]}<br>Engagement_Avg=%{customdata[3]}<br>Category_Unique_Count=%{customdata[4]}<extra></extra>",
         "hovertext": [
          "Slovenia"
         ],
         "legendgroup": "Slovenia",
         "locations": [
          "SVN"
         ],
         "marker": {
          "color": "#636efa",
          "size": [
           3866214.46
          ],
          "sizemode": "area",
          "sizeref": 67380.0132,
          "symbol": "circle"
         },
         "mode": "markers",
         "name": "Slovenia",
         "showlegend": true,
         "type": "scattergeo"
        },
        {
         "customdata": [
          [
           208250.58,
           2871.56,
           5.5234000000000005,
           0.2484,
           9
          ]
         ],
         "geo": "geo",
         "hovertemplate": "<b>%{hovertext}</b><br><br>Country=Czechia<br>View_Avg=%{marker.size}<br>Alpha3=%{location}<br>Like_Avg=%{customdata[0]}<br>Comment_Avg=%{customdata[1]}<br>Popularity_Avg=%{customdata[2]}<br>Engagement_Avg=%{customdata[3]}<br>Category_Unique_Count=%{customdata[4]}<extra></extra>",
         "hovertext": [
          "Czechia"
         ],
         "legendgroup": "Czechia",
         "locations": [
          "CZE"
         ],
         "marker": {
          "color": "#EF553B",
          "size": [
           3840063.12
          ],
          "sizemode": "area",
          "sizeref": 67380.0132,
          "symbol": "circle"
         },
         "mode": "markers",
         "name": "Czechia",
         "showlegend": true,
         "type": "scattergeo"
        },
        {
         "customdata": [
          [
           90113.28,
           3425.58,
           2.6686,
           0.136,
           6
          ]
         ],
         "geo": "geo",
         "hovertemplate": "<b>%{hovertext}</b><br><br>Country=North Macedonia<br>View_Avg=%{marker.size}<br>Alpha3=%{location}<br>Like_Avg=%{customdata[0]}<br>Comment_Avg=%{customdata[1]}<br>Popularity_Avg=%{customdata[2]}<br>Engagement_Avg=%{customdata[3]}<br>Category_Unique_Count=%{customdata[4]}<extra></extra>",
         "hovertext": [
          "North Macedonia"
         ],
         "legendgroup": "North Macedonia",
         "locations": [
          "MKD"
         ],
         "marker": {
          "color": "#00cc96",
          "size": [
           3548003.84
          ],
          "sizemode": "area",
          "sizeref": 67380.0132,
          "symbol": "circle"
         },
         "mode": "markers",
         "name": "North Macedonia",
         "showlegend": true,
         "type": "scattergeo"
        },
        {
         "customdata": [
          [
           192960.6,
           7426.48,
           7.639600000000001,
           0.3286,
           11
          ]
         ],
         "geo": "geo",
         "hovertemplate": "<b>%{hovertext}</b><br><br>Country=Oman<br>View_Avg=%{marker.size}<br>Alpha3=%{location}<br>Like_Avg=%{customdata[0]}<br>Comment_Avg=%{customdata[1]}<br>Popularity_Avg=%{customdata[2]}<br>Engagement_Avg=%{customdata[3]}<br>Category_Unique_Count=%{customdata[4]}<extra></extra>",
         "hovertext": [
          "Oman"
         ],
         "legendgroup": "Oman",
         "locations": [
          "OMN"
         ],
         "marker": {
          "color": "#ab63fa",
          "size": [
           3544484.3
          ],
          "sizemode": "area",
          "sizeref": 67380.0132,
          "symbol": "circle"
         },
         "mode": "markers",
         "name": "Oman",
         "showlegend": true,
         "type": "scattergeo"
        },
        {
         "customdata": [
          [
           78583.14,
           1940.54,
           2.1228,
           0.1242,
           8
          ]
         ],
         "geo": "geo",
         "hovertemplate": "<b>%{hovertext}</b><br><br>Country=Azerbaijan<br>View_Avg=%{marker.size}<br>Alpha3=%{location}<br>Like_Avg=%{customdata[0]}<br>Comment_Avg=%{customdata[1]}<br>Popularity_Avg=%{customdata[2]}<br>Engagement_Avg=%{customdata[3]}<br>Category_Unique_Count=%{customdata[4]}<extra></extra>",
         "hovertext": [
          "Azerbaijan"
         ],
         "legendgroup": "Azerbaijan",
         "locations": [
          "AZE"
         ],
         "marker": {
          "color": "#FFA15A",
          "size": [
           3324033.54
          ],
          "sizemode": "area",
          "sizeref": 67380.0132,
          "symbol": "circle"
         },
         "mode": "markers",
         "name": "Azerbaijan",
         "showlegend": true,
         "type": "scattergeo"
        },
        {
         "customdata": [
          [
           187249.72,
           8123.12,
           5.9066,
           0.2544,
           9
          ]
         ],
         "geo": "geo",
         "hovertemplate": "<b>%{hovertext}</b><br><br>Country=Panama<br>View_Avg=%{marker.size}<br>Alpha3=%{location}<br>Like_Avg=%{customdata[0]}<br>Comment_Avg=%{customdata[1]}<br>Popularity_Avg=%{customdata[2]}<br>Engagement_Avg=%{customdata[3]}<br>Category_Unique_Count=%{customdata[4]}<extra></extra>",
         "hovertext": [
          "Panama"
         ],
         "legendgroup": "Panama",
         "locations": [
          "PAN"
         ],
         "marker": {
          "color": "#19d3f3",
          "size": [
           3264432.58
          ],
          "sizemode": "area",
          "sizeref": 67380.0132,
          "symbol": "circle"
         },
         "mode": "markers",
         "name": "Panama",
         "showlegend": true,
         "type": "scattergeo"
        },
        {
         "customdata": [
          [
           139173.54,
           3911.58,
           3.4884000000000004,
           0.17059999999999997,
           7
          ]
         ],
         "geo": "geo",
         "hovertemplate": "<b>%{hovertext}</b><br><br>Country=Croatia<br>View_Avg=%{marker.size}<br>Alpha3=%{location}<br>Like_Avg=%{customdata[0]}<br>Comment_Avg=%{customdata[1]}<br>Popularity_Avg=%{customdata[2]}<br>Engagement_Avg=%{customdata[3]}<br>Category_Unique_Count=%{customdata[4]}<extra></extra>",
         "hovertext": [
          "Croatia"
         ],
         "legendgroup": "Croatia",
         "locations": [
          "HRV"
         ],
         "marker": {
          "color": "#FF6692",
          "size": [
           3210962.08
          ],
          "sizemode": "area",
          "sizeref": 67380.0132,
          "symbol": "circle"
         },
         "mode": "markers",
         "name": "Croatia",
         "showlegend": true,
         "type": "scattergeo"
        },
        {
         "customdata": [
          [
           166049.26,
           3539.2,
           4.57,
           0.2508,
           9
          ]
         ],
         "geo": "geo",
         "hovertemplate": "<b>%{hovertext}</b><br><br>Country=Jamaica<br>View_Avg=%{marker.size}<br>Alpha3=%{location}<br>Like_Avg=%{customdata[0]}<br>Comment_Avg=%{customdata[1]}<br>Popularity_Avg=%{customdata[2]}<br>Engagement_Avg=%{customdata[3]}<br>Category_Unique_Count=%{customdata[4]}<extra></extra>",
         "hovertext": [
          "Jamaica"
         ],
         "legendgroup": "Jamaica",
         "locations": [
          "JAM"
         ],
         "marker": {
          "color": "#B6E880",
          "size": [
           3152742.08
          ],
          "sizemode": "area",
          "sizeref": 67380.0132,
          "symbol": "circle"
         },
         "mode": "markers",
         "name": "Jamaica",
         "showlegend": true,
         "type": "scattergeo"
        },
        {
         "customdata": [
          [
           178300.28,
           1866.38,
           4.9244,
           0.20600000000000002,
           10
          ]
         ],
         "geo": "geo",
         "hovertemplate": "<b>%{hovertext}</b><br><br>Country=Greece<br>View_Avg=%{marker.size}<br>Alpha3=%{location}<br>Like_Avg=%{customdata[0]}<br>Comment_Avg=%{customdata[1]}<br>Popularity_Avg=%{customdata[2]}<br>Engagement_Avg=%{customdata[3]}<br>Category_Unique_Count=%{customdata[4]}<extra></extra>",
         "hovertext": [
          "Greece"
         ],
         "legendgroup": "Greece",
         "locations": [
          "GRC"
         ],
         "marker": {
          "color": "#FF97FF",
          "size": [
           3097658.24
          ],
          "sizemode": "area",
          "sizeref": 67380.0132,
          "symbol": "circle"
         },
         "mode": "markers",
         "name": "Greece",
         "showlegend": true,
         "type": "scattergeo"
        },
        {
         "customdata": [
          [
           175313.34,
           7144.04,
           7.6166,
           0.3422,
           11
          ]
         ],
         "geo": "geo",
         "hovertemplate": "<b>%{hovertext}</b><br><br>Country=Yemen<br>View_Avg=%{marker.size}<br>Alpha3=%{location}<br>Like_Avg=%{customdata[0]}<br>Comment_Avg=%{customdata[1]}<br>Popularity_Avg=%{customdata[2]}<br>Engagement_Avg=%{customdata[3]}<br>Category_Unique_Count=%{customdata[4]}<extra></extra>",
         "hovertext": [
          "Yemen"
         ],
         "legendgroup": "Yemen",
         "locations": [
          "YEM"
         ],
         "marker": {
          "color": "#FECB52",
          "size": [
           3019108.18
          ],
          "sizemode": "area",
          "sizeref": 67380.0132,
          "symbol": "circle"
         },
         "mode": "markers",
         "name": "Yemen",
         "showlegend": true,
         "type": "scattergeo"
        },
        {
         "customdata": [
          [
           147134.12,
           2219.32,
           3.7904,
           0.3094,
           9
          ]
         ],
         "geo": "geo",
         "hovertemplate": "<b>%{hovertext}</b><br><br>Country=Ghana<br>View_Avg=%{marker.size}<br>Alpha3=%{location}<br>Like_Avg=%{customdata[0]}<br>Comment_Avg=%{customdata[1]}<br>Popularity_Avg=%{customdata[2]}<br>Engagement_Avg=%{customdata[3]}<br>Category_Unique_Count=%{customdata[4]}<extra></extra>",
         "hovertext": [
          "Ghana"
         ],
         "legendgroup": "Ghana",
         "locations": [
          "GHA"
         ],
         "marker": {
          "color": "#636efa",
          "size": [
           2982343.9
          ],
          "sizemode": "area",
          "sizeref": 67380.0132,
          "symbol": "circle"
         },
         "mode": "markers",
         "name": "Ghana",
         "showlegend": true,
         "type": "scattergeo"
        },
        {
         "customdata": [
          [
           106415.42,
           2937.46,
           4.138,
           0.2286,
           8
          ]
         ],
         "geo": "geo",
         "hovertemplate": "<b>%{hovertext}</b><br><br>Country=Bulgaria<br>View_Avg=%{marker.size}<br>Alpha3=%{location}<br>Like_Avg=%{customdata[0]}<br>Comment_Avg=%{customdata[1]}<br>Popularity_Avg=%{customdata[2]}<br>Engagement_Avg=%{customdata[3]}<br>Category_Unique_Count=%{customdata[4]}<extra></extra>",
         "hovertext": [
          "Bulgaria"
         ],
         "legendgroup": "Bulgaria",
         "locations": [
          "BGR"
         ],
         "marker": {
          "color": "#EF553B",
          "size": [
           2945366.7
          ],
          "sizemode": "area",
          "sizeref": 67380.0132,
          "symbol": "circle"
         },
         "mode": "markers",
         "name": "Bulgaria",
         "showlegend": true,
         "type": "scattergeo"
        },
        {
         "customdata": [
          [
           159640.66,
           6307.04,
           7.604,
           0.3506,
           11
          ]
         ],
         "geo": "geo",
         "hovertemplate": "<b>%{hovertext}</b><br><br>Country=Tunisia<br>View_Avg=%{marker.size}<br>Alpha3=%{location}<br>Like_Avg=%{customdata[0]}<br>Comment_Avg=%{customdata[1]}<br>Popularity_Avg=%{customdata[2]}<br>Engagement_Avg=%{customdata[3]}<br>Category_Unique_Count=%{customdata[4]}<extra></extra>",
         "hovertext": [
          "Tunisia"
         ],
         "legendgroup": "Tunisia",
         "locations": [
          "TUN"
         ],
         "marker": {
          "color": "#00cc96",
          "size": [
           2832942.64
          ],
          "sizemode": "area",
          "sizeref": 67380.0132,
          "symbol": "circle"
         },
         "mode": "markers",
         "name": "Tunisia",
         "showlegend": true,
         "type": "scattergeo"
        },
        {
         "customdata": [
          [
           135169,
           2473.52,
           4.4088,
           0.18100000000000002,
           9
          ]
         ],
         "geo": "geo",
         "hovertemplate": "<b>%{hovertext}</b><br><br>Country=Hungary<br>View_Avg=%{marker.size}<br>Alpha3=%{location}<br>Like_Avg=%{customdata[0]}<br>Comment_Avg=%{customdata[1]}<br>Popularity_Avg=%{customdata[2]}<br>Engagement_Avg=%{customdata[3]}<br>Category_Unique_Count=%{customdata[4]}<extra></extra>",
         "hovertext": [
          "Hungary"
         ],
         "legendgroup": "Hungary",
         "locations": [
          "HUN"
         ],
         "marker": {
          "color": "#ab63fa",
          "size": [
           2825346.46
          ],
          "sizemode": "area",
          "sizeref": 67380.0132,
          "symbol": "circle"
         },
         "mode": "markers",
         "name": "Hungary",
         "showlegend": true,
         "type": "scattergeo"
        },
        {
         "customdata": [
          [
           127415.54,
           1589.22,
           2.3528000000000002,
           0.11800000000000001,
           8
          ]
         ],
         "geo": "geo",
         "hovertemplate": "<b>%{hovertext}</b><br><br>Country=Nigeria<br>View_Avg=%{marker.size}<br>Alpha3=%{location}<br>Like_Avg=%{customdata[0]}<br>Comment_Avg=%{customdata[1]}<br>Popularity_Avg=%{customdata[2]}<br>Engagement_Avg=%{customdata[3]}<br>Category_Unique_Count=%{customdata[4]}<extra></extra>",
         "hovertext": [
          "Nigeria"
         ],
         "legendgroup": "Nigeria",
         "locations": [
          "NGA"
         ],
         "marker": {
          "color": "#FFA15A",
          "size": [
           2793368.68
          ],
          "sizemode": "area",
          "sizeref": 67380.0132,
          "symbol": "circle"
         },
         "mode": "markers",
         "name": "Nigeria",
         "showlegend": true,
         "type": "scattergeo"
        },
        {
         "customdata": [
          [
           122266.38,
           3512.56,
           4.2602,
           0.267,
           10
          ]
         ],
         "geo": "geo",
         "hovertemplate": "<b>%{hovertext}</b><br><br>Country=Belarus<br>View_Avg=%{marker.size}<br>Alpha3=%{location}<br>Like_Avg=%{customdata[0]}<br>Comment_Avg=%{customdata[1]}<br>Popularity_Avg=%{customdata[2]}<br>Engagement_Avg=%{customdata[3]}<br>Category_Unique_Count=%{customdata[4]}<extra></extra>",
         "hovertext": [
          "Belarus"
         ],
         "legendgroup": "Belarus",
         "locations": [
          "BLR"
         ],
         "marker": {
          "color": "#19d3f3",
          "size": [
           2778870.7
          ],
          "sizemode": "area",
          "sizeref": 67380.0132,
          "symbol": "circle"
         },
         "mode": "markers",
         "name": "Belarus",
         "showlegend": true,
         "type": "scattergeo"
        },
        {
         "customdata": [
          [
           128414.44,
           5238.66,
           6.5066,
           0.23879999999999998,
           9
          ]
         ],
         "geo": "geo",
         "hovertemplate": "<b>%{hovertext}</b><br><br>Country=United Arab Emirates<br>View_Avg=%{marker.size}<br>Alpha3=%{location}<br>Like_Avg=%{customdata[0]}<br>Comment_Avg=%{customdata[1]}<br>Popularity_Avg=%{customdata[2]}<br>Engagement_Avg=%{customdata[3]}<br>Category_Unique_Count=%{customdata[4]}<extra></extra>",
         "hovertext": [
          "United Arab Emirates"
         ],
         "legendgroup": "United Arab Emirates",
         "locations": [
          "ARE"
         ],
         "marker": {
          "color": "#FF6692",
          "size": [
           2640467.6
          ],
          "sizemode": "area",
          "sizeref": 67380.0132,
          "symbol": "circle"
         },
         "mode": "markers",
         "name": "United Arab Emirates",
         "showlegend": true,
         "type": "scattergeo"
        },
        {
         "customdata": [
          [
           49586.58,
           2927.72,
           4.0645999999999995,
           0.1718,
           8
          ]
         ],
         "geo": "geo",
         "hovertemplate": "<b>%{hovertext}</b><br><br>Country=Cyprus<br>View_Avg=%{marker.size}<br>Alpha3=%{location}<br>Like_Avg=%{customdata[0]}<br>Comment_Avg=%{customdata[1]}<br>Popularity_Avg=%{customdata[2]}<br>Engagement_Avg=%{customdata[3]}<br>Category_Unique_Count=%{customdata[4]}<extra></extra>",
         "hovertext": [
          "Cyprus"
         ],
         "legendgroup": "Cyprus",
         "locations": [
          "CYP"
         ],
         "marker": {
          "color": "#B6E880",
          "size": [
           2582694.44
          ],
          "sizemode": "area",
          "sizeref": 67380.0132,
          "symbol": "circle"
         },
         "mode": "markers",
         "name": "Cyprus",
         "showlegend": true,
         "type": "scattergeo"
        },
        {
         "customdata": [
          [
           82572.14,
           1370.18,
           3.477,
           0.1306,
           6
          ]
         ],
         "geo": "geo",
         "hovertemplate": "<b>%{hovertext}</b><br><br>Country=Romania<br>View_Avg=%{marker.size}<br>Alpha3=%{location}<br>Like_Avg=%{customdata[0]}<br>Comment_Avg=%{customdata[1]}<br>Popularity_Avg=%{customdata[2]}<br>Engagement_Avg=%{customdata[3]}<br>Category_Unique_Count=%{customdata[4]}<extra></extra>",
         "hovertext": [
          "Romania"
         ],
         "legendgroup": "Romania",
         "locations": [
          "ROU"
         ],
         "marker": {
          "color": "#FF97FF",
          "size": [
           2402898.16
          ],
          "sizemode": "area",
          "sizeref": 67380.0132,
          "symbol": "circle"
         },
         "mode": "markers",
         "name": "Romania",
         "showlegend": true,
         "type": "scattergeo"
        },
        {
         "customdata": [
          [
           156950.56,
           2494.84,
           5.919,
           0.2984,
           9
          ]
         ],
         "geo": "geo",
         "hovertemplate": "<b>%{hovertext}</b><br><br>Country=Slovakia<br>View_Avg=%{marker.size}<br>Alpha3=%{location}<br>Like_Avg=%{customdata[0]}<br>Comment_Avg=%{customdata[1]}<br>Popularity_Avg=%{customdata[2]}<br>Engagement_Avg=%{customdata[3]}<br>Category_Unique_Count=%{customdata[4]}<extra></extra>",
         "hovertext": [
          "Slovakia"
         ],
         "legendgroup": "Slovakia",
         "locations": [
          "SVK"
         ],
         "marker": {
          "color": "#FECB52",
          "size": [
           2389356.06
          ],
          "sizemode": "area",
          "sizeref": 67380.0132,
          "symbol": "circle"
         },
         "mode": "markers",
         "name": "Slovakia",
         "showlegend": true,
         "type": "scattergeo"
        },
        {
         "customdata": [
          [
           106908.38,
           6636.9,
           4.769,
           0.3486,
           12
          ]
         ],
         "geo": "geo",
         "hovertemplate": "<b>%{hovertext}</b><br><br>Country=Australia<br>View_Avg=%{marker.size}<br>Alpha3=%{location}<br>Like_Avg=%{customdata[0]}<br>Comment_Avg=%{customdata[1]}<br>Popularity_Avg=%{customdata[2]}<br>Engagement_Avg=%{customdata[3]}<br>Category_Unique_Count=%{customdata[4]}<extra></extra>",
         "hovertext": [
          "Australia"
         ],
         "legendgroup": "Australia",
         "locations": [
          "AUS"
         ],
         "marker": {
          "color": "#636efa",
          "size": [
           2377019.64
          ],
          "sizemode": "area",
          "sizeref": 67380.0132,
          "symbol": "circle"
         },
         "mode": "markers",
         "name": "Australia",
         "showlegend": true,
         "type": "scattergeo"
        },
        {
         "customdata": [
          [
           111433.74,
           4486.32,
           3.4802,
           0.2638,
           10
          ]
         ],
         "geo": "geo",
         "hovertemplate": "<b>%{hovertext}</b><br><br>Country=Hong Kong<br>View_Avg=%{marker.size}<br>Alpha3=%{location}<br>Like_Avg=%{customdata[0]}<br>Comment_Avg=%{customdata[1]}<br>Popularity_Avg=%{customdata[2]}<br>Engagement_Avg=%{customdata[3]}<br>Category_Unique_Count=%{customdata[4]}<extra></extra>",
         "hovertext": [
          "Hong Kong"
         ],
         "legendgroup": "Hong Kong",
         "locations": [
          "HKG"
         ],
         "marker": {
          "color": "#EF553B",
          "size": [
           2213594
          ],
          "sizemode": "area",
          "sizeref": 67380.0132,
          "symbol": "circle"
         },
         "mode": "markers",
         "name": "Hong Kong",
         "showlegend": true,
         "type": "scattergeo"
        },
        {
         "customdata": [
          [
           159651.3,
           7188.36,
           7.9856,
           0.3592,
           9
          ]
         ],
         "geo": "geo",
         "hovertemplate": "<b>%{hovertext}</b><br><br>Country=Libya<br>View_Avg=%{marker.size}<br>Alpha3=%{location}<br>Like_Avg=%{customdata[0]}<br>Comment_Avg=%{customdata[1]}<br>Popularity_Avg=%{customdata[2]}<br>Engagement_Avg=%{customdata[3]}<br>Category_Unique_Count=%{customdata[4]}<extra></extra>",
         "hovertext": [
          "Libya"
         ],
         "legendgroup": "Libya",
         "locations": [
          "LBY"
         ],
         "marker": {
          "color": "#00cc96",
          "size": [
           2210314.86
          ],
          "sizemode": "area",
          "sizeref": 67380.0132,
          "symbol": "circle"
         },
         "mode": "markers",
         "name": "Libya",
         "showlegend": true,
         "type": "scattergeo"
        },
        {
         "customdata": [
          [
           126835.36,
           4883.82,
           6.163200000000001,
           0.2902,
           8
          ]
         ],
         "geo": "geo",
         "hovertemplate": "<b>%{hovertext}</b><br><br>Country=Paraguay<br>View_Avg=%{marker.size}<br>Alpha3=%{location}<br>Like_Avg=%{customdata[0]}<br>Comment_Avg=%{customdata[1]}<br>Popularity_Avg=%{customdata[2]}<br>Engagement_Avg=%{customdata[3]}<br>Category_Unique_Count=%{customdata[4]}<extra></extra>",
         "hovertext": [
          "Paraguay"
         ],
         "legendgroup": "Paraguay",
         "locations": [
          "PRY"
         ],
         "marker": {
          "color": "#ab63fa",
          "size": [
           2149613.12
          ],
          "sizemode": "area",
          "sizeref": 67380.0132,
          "symbol": "circle"
         },
         "mode": "markers",
         "name": "Paraguay",
         "showlegend": true,
         "type": "scattergeo"
        },
        {
         "customdata": [
          [
           98134.74,
           3904.2,
           6.5536,
           0.2816,
           8
          ]
         ],
         "geo": "geo",
         "hovertemplate": "<b>%{hovertext}</b><br><br>Country=Dominican Republic<br>View_Avg=%{marker.size}<br>Alpha3=%{location}<br>Like_Avg=%{customdata[0]}<br>Comment_Avg=%{customdata[1]}<br>Popularity_Avg=%{customdata[2]}<br>Engagement_Avg=%{customdata[3]}<br>Category_Unique_Count=%{customdata[4]}<extra></extra>",
         "hovertext": [
          "Dominican Republic"
         ],
         "legendgroup": "Dominican Republic",
         "locations": [
          "DOM"
         ],
         "marker": {
          "color": "#FFA15A",
          "size": [
           2092824.56
          ],
          "sizemode": "area",
          "sizeref": 67380.0132,
          "symbol": "circle"
         },
         "mode": "markers",
         "name": "Dominican Republic",
         "showlegend": true,
         "type": "scattergeo"
        },
        {
         "customdata": [
          [
           74500.92,
           1742.8,
           2.9364,
           0.196,
           9
          ]
         ],
         "geo": "geo",
         "hovertemplate": "<b>%{hovertext}</b><br><br>Country=Serbia<br>View_Avg=%{marker.size}<br>Alpha3=%{location}<br>Like_Avg=%{customdata[0]}<br>Comment_Avg=%{customdata[1]}<br>Popularity_Avg=%{customdata[2]}<br>Engagement_Avg=%{customdata[3]}<br>Category_Unique_Count=%{customdata[4]}<extra></extra>",
         "hovertext": [
          "Serbia"
         ],
         "legendgroup": "Serbia",
         "locations": [
          "SRB"
         ],
         "marker": {
          "color": "#19d3f3",
          "size": [
           1943044.38
          ],
          "sizemode": "area",
          "sizeref": 67380.0132,
          "symbol": "circle"
         },
         "mode": "markers",
         "name": "Serbia",
         "showlegend": true,
         "type": "scattergeo"
        },
        {
         "customdata": [
          [
           117130.34,
           5385.54,
           7.1398,
           0.3222,
           8
          ]
         ],
         "geo": "geo",
         "hovertemplate": "<b>%{hovertext}</b><br><br>Country=Costa Rica<br>View_Avg=%{marker.size}<br>Alpha3=%{location}<br>Like_Avg=%{customdata[0]}<br>Comment_Avg=%{customdata[1]}<br>Popularity_Avg=%{customdata[2]}<br>Engagement_Avg=%{customdata[3]}<br>Category_Unique_Count=%{customdata[4]}<extra></extra>",
         "hovertext": [
          "Costa Rica"
         ],
         "legendgroup": "Costa Rica",
         "locations": [
          "CRI"
         ],
         "marker": {
          "color": "#FF6692",
          "size": [
           1853904.72
          ],
          "sizemode": "area",
          "sizeref": 67380.0132,
          "symbol": "circle"
         },
         "mode": "markers",
         "name": "Costa Rica",
         "showlegend": true,
         "type": "scattergeo"
        },
        {
         "customdata": [
          [
           32035.36,
           2778.7,
           3.0660000000000003,
           0.183,
           7
          ]
         ],
         "geo": "geo",
         "hovertemplate": "<b>%{hovertext}</b><br><br>Country=Bosnia and Herzegovina<br>View_Avg=%{marker.size}<br>Alpha3=%{location}<br>Like_Avg=%{customdata[0]}<br>Comment_Avg=%{customdata[1]}<br>Popularity_Avg=%{customdata[2]}<br>Engagement_Avg=%{customdata[3]}<br>Category_Unique_Count=%{customdata[4]}<extra></extra>",
         "hovertext": [
          "Bosnia and Herzegovina"
         ],
         "legendgroup": "Bosnia and Herzegovina",
         "locations": [
          "BIH"
         ],
         "marker": {
          "color": "#B6E880",
          "size": [
           1814557.98
          ],
          "sizemode": "area",
          "sizeref": 67380.0132,
          "symbol": "circle"
         },
         "mode": "markers",
         "name": "Bosnia and Herzegovina",
         "showlegend": true,
         "type": "scattergeo"
        },
        {
         "customdata": [
          [
           68459.2,
           4456.46,
           4.1074,
           0.17600000000000002,
           10
          ]
         ],
         "geo": "geo",
         "hovertemplate": "<b>%{hovertext}</b><br><br>Country=India<br>View_Avg=%{marker.size}<br>Alpha3=%{location}<br>Like_Avg=%{customdata[0]}<br>Comment_Avg=%{customdata[1]}<br>Popularity_Avg=%{customdata[2]}<br>Engagement_Avg=%{customdata[3]}<br>Category_Unique_Count=%{customdata[4]}<extra></extra>",
         "hovertext": [
          "India"
         ],
         "legendgroup": "India",
         "locations": [
          "IND"
         ],
         "marker": {
          "color": "#FF97FF",
          "size": [
           1743993.18
          ],
          "sizemode": "area",
          "sizeref": 67380.0132,
          "symbol": "circle"
         },
         "mode": "markers",
         "name": "India",
         "showlegend": true,
         "type": "scattergeo"
        },
        {
         "customdata": [
          [
           102309.24,
           4500.26,
           6.6216,
           0.3084,
           8
          ]
         ],
         "geo": "geo",
         "hovertemplate": "<b>%{hovertext}</b><br><br>Country=Honduras<br>View_Avg=%{marker.size}<br>Alpha3=%{location}<br>Like_Avg=%{customdata[0]}<br>Comment_Avg=%{customdata[1]}<br>Popularity_Avg=%{customdata[2]}<br>Engagement_Avg=%{customdata[3]}<br>Category_Unique_Count=%{customdata[4]}<extra></extra>",
         "hovertext": [
          "Honduras"
         ],
         "legendgroup": "Honduras",
         "locations": [
          "HND"
         ],
         "marker": {
          "color": "#FECB52",
          "size": [
           1709334.9
          ],
          "sizemode": "area",
          "sizeref": 67380.0132,
          "symbol": "circle"
         },
         "mode": "markers",
         "name": "Honduras",
         "showlegend": true,
         "type": "scattergeo"
        },
        {
         "customdata": [
          [
           56932.36,
           1342.6,
           3.2228,
           0.30519999999999997,
           7
          ]
         ],
         "geo": "geo",
         "hovertemplate": "<b>%{hovertext}</b><br><br>Country=Kenya<br>View_Avg=%{marker.size}<br>Alpha3=%{location}<br>Like_Avg=%{customdata[0]}<br>Comment_Avg=%{customdata[1]}<br>Popularity_Avg=%{customdata[2]}<br>Engagement_Avg=%{customdata[3]}<br>Category_Unique_Count=%{customdata[4]}<extra></extra>",
         "hovertext": [
          "Kenya"
         ],
         "legendgroup": "Kenya",
         "locations": [
          "KEN"
         ],
         "marker": {
          "color": "#636efa",
          "size": [
           1645974.54
          ],
          "sizemode": "area",
          "sizeref": 67380.0132,
          "symbol": "circle"
         },
         "mode": "markers",
         "name": "Kenya",
         "showlegend": true,
         "type": "scattergeo"
        },
        {
         "customdata": [
          [
           89463.32,
           3612.78,
           7.736599999999999,
           0.36119999999999997,
           11
          ]
         ],
         "geo": "geo",
         "hovertemplate": "<b>%{hovertext}</b><br><br>Country=Egypt<br>View_Avg=%{marker.size}<br>Alpha3=%{location}<br>Like_Avg=%{customdata[0]}<br>Comment_Avg=%{customdata[1]}<br>Popularity_Avg=%{customdata[2]}<br>Engagement_Avg=%{customdata[3]}<br>Category_Unique_Count=%{customdata[4]}<extra></extra>",
         "hovertext": [
          "Egypt"
         ],
         "legendgroup": "Egypt",
         "locations": [
          "EGY"
         ],
         "marker": {
          "color": "#EF553B",
          "size": [
           1490300.28
          ],
          "sizemode": "area",
          "sizeref": 67380.0132,
          "symbol": "circle"
         },
         "mode": "markers",
         "name": "Egypt",
         "showlegend": true,
         "type": "scattergeo"
        },
        {
         "customdata": [
          [
           77924.48,
           3124.66,
           5.3504,
           0.37920000000000004,
           12
          ]
         ],
         "geo": "geo",
         "hovertemplate": "<b>%{hovertext}</b><br><br>Country=Ukraine<br>View_Avg=%{marker.size}<br>Alpha3=%{location}<br>Like_Avg=%{customdata[0]}<br>Comment_Avg=%{customdata[1]}<br>Popularity_Avg=%{customdata[2]}<br>Engagement_Avg=%{customdata[3]}<br>Category_Unique_Count=%{customdata[4]}<extra></extra>",
         "hovertext": [
          "Ukraine"
         ],
         "legendgroup": "Ukraine",
         "locations": [
          "UKR"
         ],
         "marker": {
          "color": "#00cc96",
          "size": [
           1484085.04
          ],
          "sizemode": "area",
          "sizeref": 67380.0132,
          "symbol": "circle"
         },
         "mode": "markers",
         "name": "Ukraine",
         "showlegend": true,
         "type": "scattergeo"
        },
        {
         "customdata": [
          [
           85496.94,
           3363.74,
           6.28,
           0.3822,
           10
          ]
         ],
         "geo": "geo",
         "hovertemplate": "<b>%{hovertext}</b><br><br>Country=Spain<br>View_Avg=%{marker.size}<br>Alpha3=%{location}<br>Like_Avg=%{customdata[0]}<br>Comment_Avg=%{customdata[1]}<br>Popularity_Avg=%{customdata[2]}<br>Engagement_Avg=%{customdata[3]}<br>Category_Unique_Count=%{customdata[4]}<extra></extra>",
         "hovertext": [
          "Spain"
         ],
         "legendgroup": "Spain",
         "locations": [
          "ESP"
         ],
         "marker": {
          "color": "#ab63fa",
          "size": [
           1467802.68
          ],
          "sizemode": "area",
          "sizeref": 67380.0132,
          "symbol": "circle"
         },
         "mode": "markers",
         "name": "Spain",
         "showlegend": true,
         "type": "scattergeo"
        },
        {
         "customdata": [
          [
           48996.38,
           2562.28,
           3.2476,
           0.2206,
           11
          ]
         ],
         "geo": "geo",
         "hovertemplate": "<b>%{hovertext}</b><br><br>Country=Turkey<br>View_Avg=%{marker.size}<br>Alpha3=%{location}<br>Like_Avg=%{customdata[0]}<br>Comment_Avg=%{customdata[1]}<br>Popularity_Avg=%{customdata[2]}<br>Engagement_Avg=%{customdata[3]}<br>Category_Unique_Count=%{customdata[4]}<extra></extra>",
         "hovertext": [
          "Turkey"
         ],
         "legendgroup": "Turkey",
         "locations": [
          "TUR"
         ],
         "marker": {
          "color": "#FFA15A",
          "size": [
           1424409.74
          ],
          "sizemode": "area",
          "sizeref": 67380.0132,
          "symbol": "circle"
         },
         "mode": "markers",
         "name": "Turkey",
         "showlegend": true,
         "type": "scattergeo"
        },
        {
         "customdata": [
          [
           91075.9,
           3777.14,
           7.993199999999999,
           0.3766,
           9
          ]
         ],
         "geo": "geo",
         "hovertemplate": "<b>%{hovertext}</b><br><br>Country=Jordan<br>View_Avg=%{marker.size}<br>Alpha3=%{location}<br>Like_Avg=%{customdata[0]}<br>Comment_Avg=%{customdata[1]}<br>Popularity_Avg=%{customdata[2]}<br>Engagement_Avg=%{customdata[3]}<br>Category_Unique_Count=%{customdata[4]}<extra></extra>",
         "hovertext": [
          "Jordan"
         ],
         "legendgroup": "Jordan",
         "locations": [
          "JOR"
         ],
         "marker": {
          "color": "#19d3f3",
          "size": [
           1421977.4
          ],
          "sizemode": "area",
          "sizeref": 67380.0132,
          "symbol": "circle"
         },
         "mode": "markers",
         "name": "Jordan",
         "showlegend": true,
         "type": "scattergeo"
        },
        {
         "customdata": [
          [
           75321.9,
           2315.72,
           6.086,
           0.23920000000000002,
           8
          ]
         ],
         "geo": "geo",
         "hovertemplate": "<b>%{hovertext}</b><br><br>Country=Poland<br>View_Avg=%{marker.size}<br>Alpha3=%{location}<br>Like_Avg=%{customdata[0]}<br>Comment_Avg=%{customdata[1]}<br>Popularity_Avg=%{customdata[2]}<br>Engagement_Avg=%{customdata[3]}<br>Category_Unique_Count=%{customdata[4]}<extra></extra>",
         "hovertext": [
          "Poland"
         ],
         "legendgroup": "Poland",
         "locations": [
          "POL"
         ],
         "marker": {
          "color": "#FF6692",
          "size": [
           1399869.4
          ],
          "sizemode": "area",
          "sizeref": 67380.0132,
          "symbol": "circle"
         },
         "mode": "markers",
         "name": "Poland",
         "showlegend": true,
         "type": "scattergeo"
        },
        {
         "customdata": [
          [
           90419.42,
           4716.96,
           6.4732,
           0.37200000000000005,
           12
          ]
         ],
         "geo": "geo",
         "hovertemplate": "<b>%{hovertext}</b><br><br>Country=Chile<br>View_Avg=%{marker.size}<br>Alpha3=%{location}<br>Like_Avg=%{customdata[0]}<br>Comment_Avg=%{customdata[1]}<br>Popularity_Avg=%{customdata[2]}<br>Engagement_Avg=%{customdata[3]}<br>Category_Unique_Count=%{customdata[4]}<extra></extra>",
         "hovertext": [
          "Chile"
         ],
         "legendgroup": "Chile",
         "locations": [
          "CHL"
         ],
         "marker": {
          "color": "#B6E880",
          "size": [
           1383524.7
          ],
          "sizemode": "area",
          "sizeref": 67380.0132,
          "symbol": "circle"
         },
         "mode": "markers",
         "name": "Chile",
         "showlegend": true,
         "type": "scattergeo"
        },
        {
         "customdata": [
          [
           93081.64,
           4101.7,
           7.0892,
           0.3406,
           10
          ]
         ],
         "geo": "geo",
         "hovertemplate": "<b>%{hovertext}</b><br><br>Country=Guatemala<br>View_Avg=%{marker.size}<br>Alpha3=%{location}<br>Like_Avg=%{customdata[0]}<br>Comment_Avg=%{customdata[1]}<br>Popularity_Avg=%{customdata[2]}<br>Engagement_Avg=%{customdata[3]}<br>Category_Unique_Count=%{customdata[4]}<extra></extra>",
         "hovertext": [
          "Guatemala"
         ],
         "legendgroup": "Guatemala",
         "locations": [
          "GTM"
         ],
         "marker": {
          "color": "#FF97FF",
          "size": [
           1369211.34
          ],
          "sizemode": "area",
          "sizeref": 67380.0132,
          "symbol": "circle"
         },
         "mode": "markers",
         "name": "Guatemala",
         "showlegend": true,
         "type": "scattergeo"
        },
        {
         "customdata": [
          [
           54332.8,
           1144.34,
           3.3682,
           0.1946,
           8
          ]
         ],
         "geo": "geo",
         "hovertemplate": "<b>%{hovertext}</b><br><br>Country=Senegal<br>View_Avg=%{marker.size}<br>Alpha3=%{location}<br>Like_Avg=%{customdata[0]}<br>Comment_Avg=%{customdata[1]}<br>Popularity_Avg=%{customdata[2]}<br>Engagement_Avg=%{customdata[3]}<br>Category_Unique_Count=%{customdata[4]}<extra></extra>",
         "hovertext": [
          "Senegal"
         ],
         "legendgroup": "Senegal",
         "locations": [
          "SEN"
         ],
         "marker": {
          "color": "#FECB52",
          "size": [
           1357891.26
          ],
          "sizemode": "area",
          "sizeref": 67380.0132,
          "symbol": "circle"
         },
         "mode": "markers",
         "name": "Senegal",
         "showlegend": true,
         "type": "scattergeo"
        },
        {
         "customdata": [
          [
           61450.78,
           2452.64,
           3.4298,
           0.19760000000000003,
           8
          ]
         ],
         "geo": "geo",
         "hovertemplate": "<b>%{hovertext}</b><br><br>Country=Thailand<br>View_Avg=%{marker.size}<br>Alpha3=%{location}<br>Like_Avg=%{customdata[0]}<br>Comment_Avg=%{customdata[1]}<br>Popularity_Avg=%{customdata[2]}<br>Engagement_Avg=%{customdata[3]}<br>Category_Unique_Count=%{customdata[4]}<extra></extra>",
         "hovertext": [
          "Thailand"
         ],
         "legendgroup": "Thailand",
         "locations": [
          "THA"
         ],
         "marker": {
          "color": "#636efa",
          "size": [
           1326306.54
          ],
          "sizemode": "area",
          "sizeref": 67380.0132,
          "symbol": "circle"
         },
         "mode": "markers",
         "name": "Thailand",
         "showlegend": true,
         "type": "scattergeo"
        },
        {
         "customdata": [
          [
           70505.14,
           3153.74,
           5.7664,
           0.33039999999999997,
           9
          ]
         ],
         "geo": "geo",
         "hovertemplate": "<b>%{hovertext}</b><br><br>Country=Uruguay<br>View_Avg=%{marker.size}<br>Alpha3=%{location}<br>Like_Avg=%{customdata[0]}<br>Comment_Avg=%{customdata[1]}<br>Popularity_Avg=%{customdata[2]}<br>Engagement_Avg=%{customdata[3]}<br>Category_Unique_Count=%{customdata[4]}<extra></extra>",
         "hovertext": [
          "Uruguay"
         ],
         "legendgroup": "Uruguay",
         "locations": [
          "URY"
         ],
         "marker": {
          "color": "#EF553B",
          "size": [
           1310293.42
          ],
          "sizemode": "area",
          "sizeref": 67380.0132,
          "symbol": "circle"
         },
         "mode": "markers",
         "name": "Uruguay",
         "showlegend": true,
         "type": "scattergeo"
        },
        {
         "customdata": [
          [
           99649.24,
           3914.12,
           7.9222,
           0.35200000000000004,
           10
          ]
         ],
         "geo": "geo",
         "hovertemplate": "<b>%{hovertext}</b><br><br>Country=Saudi Arabia<br>View_Avg=%{marker.size}<br>Alpha3=%{location}<br>Like_Avg=%{customdata[0]}<br>Comment_Avg=%{customdata[1]}<br>Popularity_Avg=%{customdata[2]}<br>Engagement_Avg=%{customdata[3]}<br>Category_Unique_Count=%{customdata[4]}<extra></extra>",
         "hovertext": [
          "Saudi Arabia"
         ],
         "legendgroup": "Saudi Arabia",
         "locations": [
          "SAU"
         ],
         "marker": {
          "color": "#00cc96",
          "size": [
           1292576.7
          ],
          "sizemode": "area",
          "sizeref": 67380.0132,
          "symbol": "circle"
         },
         "mode": "markers",
         "name": "Saudi Arabia",
         "showlegend": true,
         "type": "scattergeo"
        },
        {
         "customdata": [
          [
           44102.8,
           2668.44,
           2.3106,
           0.1636,
           12
          ]
         ],
         "geo": "geo",
         "hovertemplate": "<b>%{hovertext}</b><br><br>Country=Korea, Republic of<br>View_Avg=%{marker.size}<br>Alpha3=%{location}<br>Like_Avg=%{customdata[0]}<br>Comment_Avg=%{customdata[1]}<br>Popularity_Avg=%{customdata[2]}<br>Engagement_Avg=%{customdata[3]}<br>Category_Unique_Count=%{customdata[4]}<extra></extra>",
         "hovertext": [
          "Korea, Republic of"
         ],
         "legendgroup": "Korea, Republic of",
         "locations": [
          null
         ],
         "marker": {
          "color": "#ab63fa",
          "size": [
           1265048.12
          ],
          "sizemode": "area",
          "sizeref": 67380.0132,
          "symbol": "circle"
         },
         "mode": "markers",
         "name": "Korea, Republic of",
         "showlegend": true,
         "type": "scattergeo"
        },
        {
         "customdata": [
          [
           81396.36,
           3963.98,
           6.698200000000001,
           0.36460000000000004,
           11
          ]
         ],
         "geo": "geo",
         "hovertemplate": "<b>%{hovertext}</b><br><br>Country=Venezuela, Bolivarian Republic of<br>View_Avg=%{marker.size}<br>Alpha3=%{location}<br>Like_Avg=%{customdata[0]}<br>Comment_Avg=%{customdata[1]}<br>Popularity_Avg=%{customdata[2]}<br>Engagement_Avg=%{customdata[3]}<br>Category_Unique_Count=%{customdata[4]}<extra></extra>",
         "hovertext": [
          "Venezuela, Bolivarian Republic of"
         ],
         "legendgroup": "Venezuela, Bolivarian Republic of",
         "locations": [
          null
         ],
         "marker": {
          "color": "#FFA15A",
          "size": [
           1264437.98
          ],
          "sizemode": "area",
          "sizeref": 67380.0132,
          "symbol": "circle"
         },
         "mode": "markers",
         "name": "Venezuela, Bolivarian Republic of",
         "showlegend": true,
         "type": "scattergeo"
        },
        {
         "customdata": [
          [
           89242.6,
           3929.48,
           7.3107999999999995,
           0.3746,
           11
          ]
         ],
         "geo": "geo",
         "hovertemplate": "<b>%{hovertext}</b><br><br>Country=Morocco<br>View_Avg=%{marker.size}<br>Alpha3=%{location}<br>Like_Avg=%{customdata[0]}<br>Comment_Avg=%{customdata[1]}<br>Popularity_Avg=%{customdata[2]}<br>Engagement_Avg=%{customdata[3]}<br>Category_Unique_Count=%{customdata[4]}<extra></extra>",
         "hovertext": [
          "Morocco"
         ],
         "legendgroup": "Morocco",
         "locations": [
          "MAR"
         ],
         "marker": {
          "color": "#19d3f3",
          "size": [
           1258310.16
          ],
          "sizemode": "area",
          "sizeref": 67380.0132,
          "symbol": "circle"
         },
         "mode": "markers",
         "name": "Morocco",
         "showlegend": true,
         "type": "scattergeo"
        },
        {
         "customdata": [
          [
           77832.74,
           4065.68,
           6.3298000000000005,
           0.35839999999999994,
           11
          ]
         ],
         "geo": "geo",
         "hovertemplate": "<b>%{hovertext}</b><br><br>Country=Ecuador<br>View_Avg=%{marker.size}<br>Alpha3=%{location}<br>Like_Avg=%{customdata[0]}<br>Comment_Avg=%{customdata[1]}<br>Popularity_Avg=%{customdata[2]}<br>Engagement_Avg=%{customdata[3]}<br>Category_Unique_Count=%{customdata[4]}<extra></extra>",
         "hovertext": [
          "Ecuador"
         ],
         "legendgroup": "Ecuador",
         "locations": [
          "ECU"
         ],
         "marker": {
          "color": "#FF6692",
          "size": [
           1257912.6
          ],
          "sizemode": "area",
          "sizeref": 67380.0132,
          "symbol": "circle"
         },
         "mode": "markers",
         "name": "Ecuador",
         "showlegend": true,
         "type": "scattergeo"
        },
        {
         "customdata": [
          [
           95766.78,
           3840.26,
           8.2728,
           0.3722,
           10
          ]
         ],
         "geo": "geo",
         "hovertemplate": "<b>%{hovertext}</b><br><br>Country=Iraq<br>View_Avg=%{marker.size}<br>Alpha3=%{location}<br>Like_Avg=%{customdata[0]}<br>Comment_Avg=%{customdata[1]}<br>Popularity_Avg=%{customdata[2]}<br>Engagement_Avg=%{customdata[3]}<br>Category_Unique_Count=%{customdata[4]}<extra></extra>",
         "hovertext": [
          "Iraq"
         ],
         "legendgroup": "Iraq",
         "locations": [
          "IRQ"
         ],
         "marker": {
          "color": "#B6E880",
          "size": [
           1249762.3
          ],
          "sizemode": "area",
          "sizeref": 67380.0132,
          "symbol": "circle"
         },
         "mode": "markers",
         "name": "Iraq",
         "showlegend": true,
         "type": "scattergeo"
        },
        {
         "customdata": [
          [
           57447.82,
           3617.9,
           3.4257999999999997,
           0.2382,
           10
          ]
         ],
         "geo": "geo",
         "hovertemplate": "<b>%{hovertext}</b><br><br>Country=Japan<br>View_Avg=%{marker.size}<br>Alpha3=%{location}<br>Like_Avg=%{customdata[0]}<br>Comment_Avg=%{customdata[1]}<br>Popularity_Avg=%{customdata[2]}<br>Engagement_Avg=%{customdata[3]}<br>Category_Unique_Count=%{customdata[4]}<extra></extra>",
         "hovertext": [
          "Japan"
         ],
         "legendgroup": "Japan",
         "locations": [
          "JPN"
         ],
         "marker": {
          "color": "#FF97FF",
          "size": [
           1240987.44
          ],
          "sizemode": "area",
          "sizeref": 67380.0132,
          "symbol": "circle"
         },
         "mode": "markers",
         "name": "Japan",
         "showlegend": true,
         "type": "scattergeo"
        },
        {
         "customdata": [
          [
           81048.3,
           4132.68,
           6.7456,
           0.349,
           11
          ]
         ],
         "geo": "geo",
         "hovertemplate": "<b>%{hovertext}</b><br><br>Country=Mexico<br>View_Avg=%{marker.size}<br>Alpha3=%{location}<br>Like_Avg=%{customdata[0]}<br>Comment_Avg=%{customdata[1]}<br>Popularity_Avg=%{customdata[2]}<br>Engagement_Avg=%{customdata[3]}<br>Category_Unique_Count=%{customdata[4]}<extra></extra>",
         "hovertext": [
          "Mexico"
         ],
         "legendgroup": "Mexico",
         "locations": [
          "MEX"
         ],
         "marker": {
          "color": "#FECB52",
          "size": [
           1234895.24
          ],
          "sizemode": "area",
          "sizeref": 67380.0132,
          "symbol": "circle"
         },
         "mode": "markers",
         "name": "Mexico",
         "showlegend": true,
         "type": "scattergeo"
        },
        {
         "customdata": [
          [
           25583.4,
           1233,
           3.3726,
           0.19820000000000002,
           8
          ]
         ],
         "geo": "geo",
         "hovertemplate": "<b>%{hovertext}</b><br><br>Country=Montenegro<br>View_Avg=%{marker.size}<br>Alpha3=%{location}<br>Like_Avg=%{customdata[0]}<br>Comment_Avg=%{customdata[1]}<br>Popularity_Avg=%{customdata[2]}<br>Engagement_Avg=%{customdata[3]}<br>Category_Unique_Count=%{customdata[4]}<extra></extra>",
         "hovertext": [
          "Montenegro"
         ],
         "legendgroup": "Montenegro",
         "locations": [
          "MNE"
         ],
         "marker": {
          "color": "#636efa",
          "size": [
           1219622.34
          ],
          "sizemode": "area",
          "sizeref": 67380.0132,
          "symbol": "circle"
         },
         "mode": "markers",
         "name": "Montenegro",
         "showlegend": true,
         "type": "scattergeo"
        },
        {
         "customdata": [
          [
           76416.84,
           4110.6,
           6.7688,
           0.40299999999999997,
           11
          ]
         ],
         "geo": "geo",
         "hovertemplate": "<b>%{hovertext}</b><br><br>Country=Colombia<br>View_Avg=%{marker.size}<br>Alpha3=%{location}<br>Like_Avg=%{customdata[0]}<br>Comment_Avg=%{customdata[1]}<br>Popularity_Avg=%{customdata[2]}<br>Engagement_Avg=%{customdata[3]}<br>Category_Unique_Count=%{customdata[4]}<extra></extra>",
         "hovertext": [
          "Colombia"
         ],
         "legendgroup": "Colombia",
         "locations": [
          "COL"
         ],
         "marker": {
          "color": "#EF553B",
          "size": [
           1159858.78
          ],
          "sizemode": "area",
          "sizeref": 67380.0132,
          "symbol": "circle"
         },
         "mode": "markers",
         "name": "Colombia",
         "showlegend": true,
         "type": "scattergeo"
        },
        {
         "customdata": [
          [
           78701.6,
           3938,
           6.7166,
           0.39660000000000006,
           11
          ]
         ],
         "geo": "geo",
         "hovertemplate": "<b>%{hovertext}</b><br><br>Country=Peru<br>View_Avg=%{marker.size}<br>Alpha3=%{location}<br>Like_Avg=%{customdata[0]}<br>Comment_Avg=%{customdata[1]}<br>Popularity_Avg=%{customdata[2]}<br>Engagement_Avg=%{customdata[3]}<br>Category_Unique_Count=%{customdata[4]}<extra></extra>",
         "hovertext": [
          "Peru"
         ],
         "legendgroup": "Peru",
         "locations": [
          "PER"
         ],
         "marker": {
          "color": "#00cc96",
          "size": [
           1144433.58
          ],
          "sizemode": "area",
          "sizeref": 67380.0132,
          "symbol": "circle"
         },
         "mode": "markers",
         "name": "Peru",
         "showlegend": true,
         "type": "scattergeo"
        },
        {
         "customdata": [
          [
           72228.68,
           3208.26,
           6.454199999999999,
           0.36719999999999997,
           11
          ]
         ],
         "geo": "geo",
         "hovertemplate": "<b>%{hovertext}</b><br><br>Country=Bolivia, Plurinational State of<br>View_Avg=%{marker.size}<br>Alpha3=%{location}<br>Like_Avg=%{customdata[0]}<br>Comment_Avg=%{customdata[1]}<br>Popularity_Avg=%{customdata[2]}<br>Engagement_Avg=%{customdata[3]}<br>Category_Unique_Count=%{customdata[4]}<extra></extra>",
         "hovertext": [
          "Bolivia, Plurinational State of"
         ],
         "legendgroup": "Bolivia, Plurinational State of",
         "locations": [
          null
         ],
         "marker": {
          "color": "#ab63fa",
          "size": [
           1125571.4
          ],
          "sizemode": "area",
          "sizeref": 67380.0132,
          "symbol": "circle"
         },
         "mode": "markers",
         "name": "Bolivia, Plurinational State of",
         "showlegend": true,
         "type": "scattergeo"
        },
        {
         "customdata": [
          [
           51928.8,
           2950.58,
           3.9010000000000002,
           0.2846,
           7
          ]
         ],
         "geo": "geo",
         "hovertemplate": "<b>%{hovertext}</b><br><br>Country=Indonesia<br>View_Avg=%{marker.size}<br>Alpha3=%{location}<br>Like_Avg=%{customdata[0]}<br>Comment_Avg=%{customdata[1]}<br>Popularity_Avg=%{customdata[2]}<br>Engagement_Avg=%{customdata[3]}<br>Category_Unique_Count=%{customdata[4]}<extra></extra>",
         "hovertext": [
          "Indonesia"
         ],
         "legendgroup": "Indonesia",
         "locations": [
          "IDN"
         ],
         "marker": {
          "color": "#FFA15A",
          "size": [
           1124910.4
          ],
          "sizemode": "area",
          "sizeref": 67380.0132,
          "symbol": "circle"
         },
         "mode": "markers",
         "name": "Indonesia",
         "showlegend": true,
         "type": "scattergeo"
        },
        {
         "customdata": [
          [
           74899.06,
           4124.58,
           6.864,
           0.4158,
           12
          ]
         ],
         "geo": "geo",
         "hovertemplate": "<b>%{hovertext}</b><br><br>Country=Argentina<br>View_Avg=%{marker.size}<br>Alpha3=%{location}<br>Like_Avg=%{customdata[0]}<br>Comment_Avg=%{customdata[1]}<br>Popularity_Avg=%{customdata[2]}<br>Engagement_Avg=%{customdata[3]}<br>Category_Unique_Count=%{customdata[4]}<extra></extra>",
         "hovertext": [
          "Argentina"
         ],
         "legendgroup": "Argentina",
         "locations": [
          "ARG"
         ],
         "marker": {
          "color": "#19d3f3",
          "size": [
           1098505.74
          ],
          "sizemode": "area",
          "sizeref": 67380.0132,
          "symbol": "circle"
         },
         "mode": "markers",
         "name": "Argentina",
         "showlegend": true,
         "type": "scattergeo"
        },
        {
         "customdata": [
          [
           75427.4,
           4920.3,
           7.479400000000001,
           0.5282,
           9
          ]
         ],
         "geo": "geo",
         "hovertemplate": "<b>%{hovertext}</b><br><br>Country=Papua New Guinea<br>View_Avg=%{marker.size}<br>Alpha3=%{location}<br>Like_Avg=%{customdata[0]}<br>Comment_Avg=%{customdata[1]}<br>Popularity_Avg=%{customdata[2]}<br>Engagement_Avg=%{customdata[3]}<br>Category_Unique_Count=%{customdata[4]}<extra></extra>",
         "hovertext": [
          "Papua New Guinea"
         ],
         "legendgroup": "Papua New Guinea",
         "locations": [
          "PNG"
         ],
         "marker": {
          "color": "#FF6692",
          "size": [
           1070644.22
          ],
          "sizemode": "area",
          "sizeref": 67380.0132,
          "symbol": "circle"
         },
         "mode": "markers",
         "name": "Papua New Guinea",
         "showlegend": true,
         "type": "scattergeo"
        },
        {
         "customdata": [
          [
           75416.46,
           4912.86,
           7.4786,
           0.526,
           9
          ]
         ],
         "geo": "geo",
         "hovertemplate": "<b>%{hovertext}</b><br><br>Country=United States<br>View_Avg=%{marker.size}<br>Alpha3=%{location}<br>Like_Avg=%{customdata[0]}<br>Comment_Avg=%{customdata[1]}<br>Popularity_Avg=%{customdata[2]}<br>Engagement_Avg=%{customdata[3]}<br>Category_Unique_Count=%{customdata[4]}<extra></extra>",
         "hovertext": [
          "United States"
         ],
         "legendgroup": "United States",
         "locations": [
          "USA"
         ],
         "marker": {
          "color": "#B6E880",
          "size": [
           1070519.66
          ],
          "sizemode": "area",
          "sizeref": 67380.0132,
          "symbol": "circle"
         },
         "mode": "markers",
         "name": "United States",
         "showlegend": true,
         "type": "scattergeo"
        },
        {
         "customdata": [
          [
           79773.68,
           4012.3,
           9.109,
           0.4734,
           9
          ]
         ],
         "geo": "geo",
         "hovertemplate": "<b>%{hovertext}</b><br><br>Country=Brazil<br>View_Avg=%{marker.size}<br>Alpha3=%{location}<br>Like_Avg=%{customdata[0]}<br>Comment_Avg=%{customdata[1]}<br>Popularity_Avg=%{customdata[2]}<br>Engagement_Avg=%{customdata[3]}<br>Category_Unique_Count=%{customdata[4]}<extra></extra>",
         "hovertext": [
          "Brazil"
         ],
         "legendgroup": "Brazil",
         "locations": [
          "BRA"
         ],
         "marker": {
          "color": "#FF97FF",
          "size": [
           1033288.96
          ],
          "sizemode": "area",
          "sizeref": 67380.0132,
          "symbol": "circle"
         },
         "mode": "markers",
         "name": "Brazil",
         "showlegend": true,
         "type": "scattergeo"
        },
        {
         "customdata": [
          [
           78207.18,
           3188.44,
           7.6617999999999995,
           0.39759999999999995,
           12
          ]
         ],
         "geo": "geo",
         "hovertemplate": "<b>%{hovertext}</b><br><br>Country=Algeria<br>View_Avg=%{marker.size}<br>Alpha3=%{location}<br>Like_Avg=%{customdata[0]}<br>Comment_Avg=%{customdata[1]}<br>Popularity_Avg=%{customdata[2]}<br>Engagement_Avg=%{customdata[3]}<br>Category_Unique_Count=%{customdata[4]}<extra></extra>",
         "hovertext": [
          "Algeria"
         ],
         "legendgroup": "Algeria",
         "locations": [
          "DZA"
         ],
         "marker": {
          "color": "#FECB52",
          "size": [
           994901.96
          ],
          "sizemode": "area",
          "sizeref": 67380.0132,
          "symbol": "circle"
         },
         "mode": "markers",
         "name": "Algeria",
         "showlegend": true,
         "type": "scattergeo"
        },
        {
         "customdata": [
          [
           60576.2,
           4061.68,
           5.8852,
           0.44079999999999997,
           9
          ]
         ],
         "geo": "geo",
         "hovertemplate": "<b>%{hovertext}</b><br><br>Country=Canada<br>View_Avg=%{marker.size}<br>Alpha3=%{location}<br>Like_Avg=%{customdata[0]}<br>Comment_Avg=%{customdata[1]}<br>Popularity_Avg=%{customdata[2]}<br>Engagement_Avg=%{customdata[3]}<br>Category_Unique_Count=%{customdata[4]}<extra></extra>",
         "hovertext": [
          "Canada"
         ],
         "legendgroup": "Canada",
         "locations": [
          "CAN"
         ],
         "marker": {
          "color": "#636efa",
          "size": [
           974021.06
          ],
          "sizemode": "area",
          "sizeref": 67380.0132,
          "symbol": "circle"
         },
         "mode": "markers",
         "name": "Canada",
         "showlegend": true,
         "type": "scattergeo"
        },
        {
         "customdata": [
          [
           64151.64,
           3956.8,
           6.2286,
           0.4362,
           9
          ]
         ],
         "geo": "geo",
         "hovertemplate": "<b>%{hovertext}</b><br><br>Country=United Kingdom<br>View_Avg=%{marker.size}<br>Alpha3=%{location}<br>Like_Avg=%{customdata[0]}<br>Comment_Avg=%{customdata[1]}<br>Popularity_Avg=%{customdata[2]}<br>Engagement_Avg=%{customdata[3]}<br>Category_Unique_Count=%{customdata[4]}<extra></extra>",
         "hovertext": [
          "United Kingdom"
         ],
         "legendgroup": "United Kingdom",
         "locations": [
          "GBR"
         ],
         "marker": {
          "color": "#EF553B",
          "size": [
           900823.1
          ],
          "sizemode": "area",
          "sizeref": 67380.0132,
          "symbol": "circle"
         },
         "mode": "markers",
         "name": "United Kingdom",
         "showlegend": true,
         "type": "scattergeo"
        },
        {
         "customdata": [
          [
           57361.1,
           3353.16,
           5.686,
           0.32380000000000003,
           12
          ]
         ],
         "geo": "geo",
         "hovertemplate": "<b>%{hovertext}</b><br><br>Country=Austria<br>View_Avg=%{marker.size}<br>Alpha3=%{location}<br>Like_Avg=%{customdata[0]}<br>Comment_Avg=%{customdata[1]}<br>Popularity_Avg=%{customdata[2]}<br>Engagement_Avg=%{customdata[3]}<br>Category_Unique_Count=%{customdata[4]}<extra></extra>",
         "hovertext": [
          "Austria"
         ],
         "legendgroup": "Austria",
         "locations": [
          "AUT"
         ],
         "marker": {
          "color": "#00cc96",
          "size": [
           881194.08
          ],
          "sizemode": "area",
          "sizeref": 67380.0132,
          "symbol": "circle"
         },
         "mode": "markers",
         "name": "Austria",
         "showlegend": true,
         "type": "scattergeo"
        },
        {
         "customdata": [
          [
           55010.52,
           3145.4,
           5.6506,
           0.2994,
           10
          ]
         ],
         "geo": "geo",
         "hovertemplate": "<b>%{hovertext}</b><br><br>Country=Germany<br>View_Avg=%{marker.size}<br>Alpha3=%{location}<br>Like_Avg=%{customdata[0]}<br>Comment_Avg=%{customdata[1]}<br>Popularity_Avg=%{customdata[2]}<br>Engagement_Avg=%{customdata[3]}<br>Category_Unique_Count=%{customdata[4]}<extra></extra>",
         "hovertext": [
          "Germany"
         ],
         "legendgroup": "Germany",
         "locations": [
          "DEU"
         ],
         "marker": {
          "color": "#ab63fa",
          "size": [
           840813.14
          ],
          "sizemode": "area",
          "sizeref": 67380.0132,
          "symbol": "circle"
         },
         "mode": "markers",
         "name": "Germany",
         "showlegend": true,
         "type": "scattergeo"
        },
        {
         "customdata": [
          [
           35321.22,
           2270.44,
           3.1434,
           0.24359999999999998,
           10
          ]
         ],
         "geo": "geo",
         "hovertemplate": "<b>%{hovertext}</b><br><br>Country=Taiwan, Province of China<br>View_Avg=%{marker.size}<br>Alpha3=%{location}<br>Like_Avg=%{customdata[0]}<br>Comment_Avg=%{customdata[1]}<br>Popularity_Avg=%{customdata[2]}<br>Engagement_Avg=%{customdata[3]}<br>Category_Unique_Count=%{customdata[4]}<extra></extra>",
         "hovertext": [
          "Taiwan, Province of China"
         ],
         "legendgroup": "Taiwan, Province of China",
         "locations": [
          null
         ],
         "marker": {
          "color": "#FFA15A",
          "size": [
           827419.7
          ],
          "sizemode": "area",
          "sizeref": 67380.0132,
          "symbol": "circle"
         },
         "mode": "markers",
         "name": "Taiwan, Province of China",
         "showlegend": true,
         "type": "scattergeo"
        },
        {
         "customdata": [
          [
           55211.36,
           3517.18,
           7.0656,
           0.4534,
           11
          ]
         ],
         "geo": "geo",
         "hovertemplate": "<b>%{hovertext}</b><br><br>Country=France<br>View_Avg=%{marker.size}<br>Alpha3=%{location}<br>Like_Avg=%{customdata[0]}<br>Comment_Avg=%{customdata[1]}<br>Popularity_Avg=%{customdata[2]}<br>Engagement_Avg=%{customdata[3]}<br>Category_Unique_Count=%{customdata[4]}<extra></extra>",
         "hovertext": [
          "France"
         ],
         "legendgroup": "France",
         "locations": [
          "FRA"
         ],
         "marker": {
          "color": "#19d3f3",
          "size": [
           768793.68
          ],
          "sizemode": "area",
          "sizeref": 67380.0132,
          "symbol": "circle"
         },
         "mode": "markers",
         "name": "France",
         "showlegend": true,
         "type": "scattergeo"
        },
        {
         "customdata": [
          [
           15705.76,
           782.24,
           2.0322,
           0.2812,
           6
          ]
         ],
         "geo": "geo",
         "hovertemplate": "<b>%{hovertext}</b><br><br>Country=Tanzania, United Republic of<br>View_Avg=%{marker.size}<br>Alpha3=%{location}<br>Like_Avg=%{customdata[0]}<br>Comment_Avg=%{customdata[1]}<br>Popularity_Avg=%{customdata[2]}<br>Engagement_Avg=%{customdata[3]}<br>Category_Unique_Count=%{customdata[4]}<extra></extra>",
         "hovertext": [
          "Tanzania, United Republic of"
         ],
         "legendgroup": "Tanzania, United Republic of",
         "locations": [
          null
         ],
         "marker": {
          "color": "#FF6692",
          "size": [
           717644.14
          ],
          "sizemode": "area",
          "sizeref": 67380.0132,
          "symbol": "circle"
         },
         "mode": "markers",
         "name": "Tanzania, United Republic of",
         "showlegend": true,
         "type": "scattergeo"
        },
        {
         "customdata": [
          [
           53934.46,
           2679.32,
           7.685599999999999,
           0.4378,
           11
          ]
         ],
         "geo": "geo",
         "hovertemplate": "<b>%{hovertext}</b><br><br>Country=Russian Federation<br>View_Avg=%{marker.size}<br>Alpha3=%{location}<br>Like_Avg=%{customdata[0]}<br>Comment_Avg=%{customdata[1]}<br>Popularity_Avg=%{customdata[2]}<br>Engagement_Avg=%{customdata[3]}<br>Category_Unique_Count=%{customdata[4]}<extra></extra>",
         "hovertext": [
          "Russian Federation"
         ],
         "legendgroup": "Russian Federation",
         "locations": [
          null
         ],
         "marker": {
          "color": "#B6E880",
          "size": [
           694103.86
          ],
          "sizemode": "area",
          "sizeref": 67380.0132,
          "symbol": "circle"
         },
         "mode": "markers",
         "name": "Russian Federation",
         "showlegend": true,
         "type": "scattergeo"
        },
        {
         "customdata": [
          [
           39155.72,
           2084.9,
           7.039,
           0.2498,
           11
          ]
         ],
         "geo": "geo",
         "hovertemplate": "<b>%{hovertext}</b><br><br>Country=Italy<br>View_Avg=%{marker.size}<br>Alpha3=%{location}<br>Like_Avg=%{customdata[0]}<br>Comment_Avg=%{customdata[1]}<br>Popularity_Avg=%{customdata[2]}<br>Engagement_Avg=%{customdata[3]}<br>Category_Unique_Count=%{customdata[4]}<extra></extra>",
         "hovertext": [
          "Italy"
         ],
         "legendgroup": "Italy",
         "locations": [
          "ITA"
         ],
         "marker": {
          "color": "#FF97FF",
          "size": [
           591009.5
          ],
          "sizemode": "area",
          "sizeref": 67380.0132,
          "symbol": "circle"
         },
         "mode": "markers",
         "name": "Italy",
         "showlegend": true,
         "type": "scattergeo"
        }
       ],
       "layout": {
        "geo": {
         "center": {},
         "domain": {
          "x": [
           0,
           1
          ],
          "y": [
           0,
           1
          ]
         },
         "projection": {
          "type": "natural earth"
         }
        },
        "legend": {
         "itemsizing": "constant",
         "title": {
          "text": "Country"
         },
         "tracegroupgap": 0
        },
        "margin": {
         "t": 60
        },
        "template": {
         "data": {
          "bar": [
           {
            "error_x": {
             "color": "#f2f5fa"
            },
            "error_y": {
             "color": "#f2f5fa"
            },
            "marker": {
             "line": {
              "color": "rgb(17,17,17)",
              "width": 0.5
             },
             "pattern": {
              "fillmode": "overlay",
              "size": 10,
              "solidity": 0.2
             }
            },
            "type": "bar"
           }
          ],
          "barpolar": [
           {
            "marker": {
             "line": {
              "color": "rgb(17,17,17)",
              "width": 0.5
             },
             "pattern": {
              "fillmode": "overlay",
              "size": 10,
              "solidity": 0.2
             }
            },
            "type": "barpolar"
           }
          ],
          "carpet": [
           {
            "aaxis": {
             "endlinecolor": "#A2B1C6",
             "gridcolor": "#506784",
             "linecolor": "#506784",
             "minorgridcolor": "#506784",
             "startlinecolor": "#A2B1C6"
            },
            "baxis": {
             "endlinecolor": "#A2B1C6",
             "gridcolor": "#506784",
             "linecolor": "#506784",
             "minorgridcolor": "#506784",
             "startlinecolor": "#A2B1C6"
            },
            "type": "carpet"
           }
          ],
          "choropleth": [
           {
            "colorbar": {
             "outlinewidth": 0,
             "ticks": ""
            },
            "type": "choropleth"
           }
          ],
          "contour": [
           {
            "colorbar": {
             "outlinewidth": 0,
             "ticks": ""
            },
            "colorscale": [
             [
              0,
              "#0d0887"
             ],
             [
              0.1111111111111111,
              "#46039f"
             ],
             [
              0.2222222222222222,
              "#7201a8"
             ],
             [
              0.3333333333333333,
              "#9c179e"
             ],
             [
              0.4444444444444444,
              "#bd3786"
             ],
             [
              0.5555555555555556,
              "#d8576b"
             ],
             [
              0.6666666666666666,
              "#ed7953"
             ],
             [
              0.7777777777777778,
              "#fb9f3a"
             ],
             [
              0.8888888888888888,
              "#fdca26"
             ],
             [
              1,
              "#f0f921"
             ]
            ],
            "type": "contour"
           }
          ],
          "contourcarpet": [
           {
            "colorbar": {
             "outlinewidth": 0,
             "ticks": ""
            },
            "type": "contourcarpet"
           }
          ],
          "heatmap": [
           {
            "colorbar": {
             "outlinewidth": 0,
             "ticks": ""
            },
            "colorscale": [
             [
              0,
              "#0d0887"
             ],
             [
              0.1111111111111111,
              "#46039f"
             ],
             [
              0.2222222222222222,
              "#7201a8"
             ],
             [
              0.3333333333333333,
              "#9c179e"
             ],
             [
              0.4444444444444444,
              "#bd3786"
             ],
             [
              0.5555555555555556,
              "#d8576b"
             ],
             [
              0.6666666666666666,
              "#ed7953"
             ],
             [
              0.7777777777777778,
              "#fb9f3a"
             ],
             [
              0.8888888888888888,
              "#fdca26"
             ],
             [
              1,
              "#f0f921"
             ]
            ],
            "type": "heatmap"
           }
          ],
          "heatmapgl": [
           {
            "colorbar": {
             "outlinewidth": 0,
             "ticks": ""
            },
            "colorscale": [
             [
              0,
              "#0d0887"
             ],
             [
              0.1111111111111111,
              "#46039f"
             ],
             [
              0.2222222222222222,
              "#7201a8"
             ],
             [
              0.3333333333333333,
              "#9c179e"
             ],
             [
              0.4444444444444444,
              "#bd3786"
             ],
             [
              0.5555555555555556,
              "#d8576b"
             ],
             [
              0.6666666666666666,
              "#ed7953"
             ],
             [
              0.7777777777777778,
              "#fb9f3a"
             ],
             [
              0.8888888888888888,
              "#fdca26"
             ],
             [
              1,
              "#f0f921"
             ]
            ],
            "type": "heatmapgl"
           }
          ],
          "histogram": [
           {
            "marker": {
             "pattern": {
              "fillmode": "overlay",
              "size": 10,
              "solidity": 0.2
             }
            },
            "type": "histogram"
           }
          ],
          "histogram2d": [
           {
            "colorbar": {
             "outlinewidth": 0,
             "ticks": ""
            },
            "colorscale": [
             [
              0,
              "#0d0887"
             ],
             [
              0.1111111111111111,
              "#46039f"
             ],
             [
              0.2222222222222222,
              "#7201a8"
             ],
             [
              0.3333333333333333,
              "#9c179e"
             ],
             [
              0.4444444444444444,
              "#bd3786"
             ],
             [
              0.5555555555555556,
              "#d8576b"
             ],
             [
              0.6666666666666666,
              "#ed7953"
             ],
             [
              0.7777777777777778,
              "#fb9f3a"
             ],
             [
              0.8888888888888888,
              "#fdca26"
             ],
             [
              1,
              "#f0f921"
             ]
            ],
            "type": "histogram2d"
           }
          ],
          "histogram2dcontour": [
           {
            "colorbar": {
             "outlinewidth": 0,
             "ticks": ""
            },
            "colorscale": [
             [
              0,
              "#0d0887"
             ],
             [
              0.1111111111111111,
              "#46039f"
             ],
             [
              0.2222222222222222,
              "#7201a8"
             ],
             [
              0.3333333333333333,
              "#9c179e"
             ],
             [
              0.4444444444444444,
              "#bd3786"
             ],
             [
              0.5555555555555556,
              "#d8576b"
             ],
             [
              0.6666666666666666,
              "#ed7953"
             ],
             [
              0.7777777777777778,
              "#fb9f3a"
             ],
             [
              0.8888888888888888,
              "#fdca26"
             ],
             [
              1,
              "#f0f921"
             ]
            ],
            "type": "histogram2dcontour"
           }
          ],
          "mesh3d": [
           {
            "colorbar": {
             "outlinewidth": 0,
             "ticks": ""
            },
            "type": "mesh3d"
           }
          ],
          "parcoords": [
           {
            "line": {
             "colorbar": {
              "outlinewidth": 0,
              "ticks": ""
             }
            },
            "type": "parcoords"
           }
          ],
          "pie": [
           {
            "automargin": true,
            "type": "pie"
           }
          ],
          "scatter": [
           {
            "marker": {
             "line": {
              "color": "#283442"
             }
            },
            "type": "scatter"
           }
          ],
          "scatter3d": [
           {
            "line": {
             "colorbar": {
              "outlinewidth": 0,
              "ticks": ""
             }
            },
            "marker": {
             "colorbar": {
              "outlinewidth": 0,
              "ticks": ""
             }
            },
            "type": "scatter3d"
           }
          ],
          "scattercarpet": [
           {
            "marker": {
             "colorbar": {
              "outlinewidth": 0,
              "ticks": ""
             }
            },
            "type": "scattercarpet"
           }
          ],
          "scattergeo": [
           {
            "marker": {
             "colorbar": {
              "outlinewidth": 0,
              "ticks": ""
             }
            },
            "type": "scattergeo"
           }
          ],
          "scattergl": [
           {
            "marker": {
             "line": {
              "color": "#283442"
             }
            },
            "type": "scattergl"
           }
          ],
          "scattermapbox": [
           {
            "marker": {
             "colorbar": {
              "outlinewidth": 0,
              "ticks": ""
             }
            },
            "type": "scattermapbox"
           }
          ],
          "scatterpolar": [
           {
            "marker": {
             "colorbar": {
              "outlinewidth": 0,
              "ticks": ""
             }
            },
            "type": "scatterpolar"
           }
          ],
          "scatterpolargl": [
           {
            "marker": {
             "colorbar": {
              "outlinewidth": 0,
              "ticks": ""
             }
            },
            "type": "scatterpolargl"
           }
          ],
          "scatterternary": [
           {
            "marker": {
             "colorbar": {
              "outlinewidth": 0,
              "ticks": ""
             }
            },
            "type": "scatterternary"
           }
          ],
          "surface": [
           {
            "colorbar": {
             "outlinewidth": 0,
             "ticks": ""
            },
            "colorscale": [
             [
              0,
              "#0d0887"
             ],
             [
              0.1111111111111111,
              "#46039f"
             ],
             [
              0.2222222222222222,
              "#7201a8"
             ],
             [
              0.3333333333333333,
              "#9c179e"
             ],
             [
              0.4444444444444444,
              "#bd3786"
             ],
             [
              0.5555555555555556,
              "#d8576b"
             ],
             [
              0.6666666666666666,
              "#ed7953"
             ],
             [
              0.7777777777777778,
              "#fb9f3a"
             ],
             [
              0.8888888888888888,
              "#fdca26"
             ],
             [
              1,
              "#f0f921"
             ]
            ],
            "type": "surface"
           }
          ],
          "table": [
           {
            "cells": {
             "fill": {
              "color": "#506784"
             },
             "line": {
              "color": "rgb(17,17,17)"
             }
            },
            "header": {
             "fill": {
              "color": "#2a3f5f"
             },
             "line": {
              "color": "rgb(17,17,17)"
             }
            },
            "type": "table"
           }
          ]
         },
         "layout": {
          "annotationdefaults": {
           "arrowcolor": "#f2f5fa",
           "arrowhead": 0,
           "arrowwidth": 1
          },
          "autotypenumbers": "strict",
          "coloraxis": {
           "colorbar": {
            "outlinewidth": 0,
            "ticks": ""
           }
          },
          "colorscale": {
           "diverging": [
            [
             0,
             "#8e0152"
            ],
            [
             0.1,
             "#c51b7d"
            ],
            [
             0.2,
             "#de77ae"
            ],
            [
             0.3,
             "#f1b6da"
            ],
            [
             0.4,
             "#fde0ef"
            ],
            [
             0.5,
             "#f7f7f7"
            ],
            [
             0.6,
             "#e6f5d0"
            ],
            [
             0.7,
             "#b8e186"
            ],
            [
             0.8,
             "#7fbc41"
            ],
            [
             0.9,
             "#4d9221"
            ],
            [
             1,
             "#276419"
            ]
           ],
           "sequential": [
            [
             0,
             "#0d0887"
            ],
            [
             0.1111111111111111,
             "#46039f"
            ],
            [
             0.2222222222222222,
             "#7201a8"
            ],
            [
             0.3333333333333333,
             "#9c179e"
            ],
            [
             0.4444444444444444,
             "#bd3786"
            ],
            [
             0.5555555555555556,
             "#d8576b"
            ],
            [
             0.6666666666666666,
             "#ed7953"
            ],
            [
             0.7777777777777778,
             "#fb9f3a"
            ],
            [
             0.8888888888888888,
             "#fdca26"
            ],
            [
             1,
             "#f0f921"
            ]
           ],
           "sequentialminus": [
            [
             0,
             "#0d0887"
            ],
            [
             0.1111111111111111,
             "#46039f"
            ],
            [
             0.2222222222222222,
             "#7201a8"
            ],
            [
             0.3333333333333333,
             "#9c179e"
            ],
            [
             0.4444444444444444,
             "#bd3786"
            ],
            [
             0.5555555555555556,
             "#d8576b"
            ],
            [
             0.6666666666666666,
             "#ed7953"
            ],
            [
             0.7777777777777778,
             "#fb9f3a"
            ],
            [
             0.8888888888888888,
             "#fdca26"
            ],
            [
             1,
             "#f0f921"
            ]
           ]
          },
          "colorway": [
           "#636efa",
           "#EF553B",
           "#00cc96",
           "#ab63fa",
           "#FFA15A",
           "#19d3f3",
           "#FF6692",
           "#B6E880",
           "#FF97FF",
           "#FECB52"
          ],
          "font": {
           "color": "#f2f5fa"
          },
          "geo": {
           "bgcolor": "rgb(17,17,17)",
           "lakecolor": "rgb(17,17,17)",
           "landcolor": "rgb(17,17,17)",
           "showlakes": true,
           "showland": true,
           "subunitcolor": "#506784"
          },
          "hoverlabel": {
           "align": "left"
          },
          "hovermode": "closest",
          "mapbox": {
           "style": "dark"
          },
          "paper_bgcolor": "rgb(17,17,17)",
          "plot_bgcolor": "rgb(17,17,17)",
          "polar": {
           "angularaxis": {
            "gridcolor": "#506784",
            "linecolor": "#506784",
            "ticks": ""
           },
           "bgcolor": "rgb(17,17,17)",
           "radialaxis": {
            "gridcolor": "#506784",
            "linecolor": "#506784",
            "ticks": ""
           }
          },
          "scene": {
           "xaxis": {
            "backgroundcolor": "rgb(17,17,17)",
            "gridcolor": "#506784",
            "gridwidth": 2,
            "linecolor": "#506784",
            "showbackground": true,
            "ticks": "",
            "zerolinecolor": "#C8D4E3"
           },
           "yaxis": {
            "backgroundcolor": "rgb(17,17,17)",
            "gridcolor": "#506784",
            "gridwidth": 2,
            "linecolor": "#506784",
            "showbackground": true,
            "ticks": "",
            "zerolinecolor": "#C8D4E3"
           },
           "zaxis": {
            "backgroundcolor": "rgb(17,17,17)",
            "gridcolor": "#506784",
            "gridwidth": 2,
            "linecolor": "#506784",
            "showbackground": true,
            "ticks": "",
            "zerolinecolor": "#C8D4E3"
           }
          },
          "shapedefaults": {
           "line": {
            "color": "#f2f5fa"
           }
          },
          "sliderdefaults": {
           "bgcolor": "#C8D4E3",
           "bordercolor": "rgb(17,17,17)",
           "borderwidth": 1,
           "tickwidth": 0
          },
          "ternary": {
           "aaxis": {
            "gridcolor": "#506784",
            "linecolor": "#506784",
            "ticks": ""
           },
           "baxis": {
            "gridcolor": "#506784",
            "linecolor": "#506784",
            "ticks": ""
           },
           "bgcolor": "rgb(17,17,17)",
           "caxis": {
            "gridcolor": "#506784",
            "linecolor": "#506784",
            "ticks": ""
           }
          },
          "title": {
           "x": 0.05
          },
          "updatemenudefaults": {
           "bgcolor": "#506784",
           "borderwidth": 0
          },
          "xaxis": {
           "automargin": true,
           "gridcolor": "#283442",
           "linecolor": "#506784",
           "ticks": "",
           "title": {
            "standoff": 15
           },
           "zerolinecolor": "#283442",
           "zerolinewidth": 2
          },
          "yaxis": {
           "automargin": true,
           "gridcolor": "#283442",
           "linecolor": "#506784",
           "ticks": "",
           "title": {
            "standoff": 15
           },
           "zerolinecolor": "#283442",
           "zerolinewidth": 2
          }
         }
        }
       }
      }
     },
     "metadata": {},
     "output_type": "display_data"
    }
   ],
   "source": [
    "fig = px.scatter_geo(youtube_stat, locations=\"Alpha3\", color=\"Country\", template= template,\n",
    "                     hover_name=\"Country\", size=\"View_Avg\", hover_data = ['Like_Avg', 'Comment_Avg', 'Popularity_Avg', 'Engagement_Avg', 'Category_Unique_Count'],\n",
    "                     projection=\"natural earth\")\n",
    "fig.show()"
   ]
  }
 ],
 "metadata": {
  "kernelspec": {
   "display_name": "Python 3.10.8 ('EDA')",
   "language": "python",
   "name": "python3"
  },
  "language_info": {
   "codemirror_mode": {
    "name": "ipython",
    "version": 3
   },
   "file_extension": ".py",
   "mimetype": "text/x-python",
   "name": "python",
   "nbconvert_exporter": "python",
   "pygments_lexer": "ipython3",
   "version": "3.10.8"
  },
  "orig_nbformat": 4,
  "vscode": {
   "interpreter": {
    "hash": "ec164137cae0301ce2c5f075ba403f8c9ae5496ee2d44be6781ed189f411ea38"
   }
  }
 },
 "nbformat": 4,
 "nbformat_minor": 2
}
